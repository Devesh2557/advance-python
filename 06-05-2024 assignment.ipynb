{
 "cells": [
  {
   "cell_type": "code",
   "execution_count": 1,
   "id": "484a3fe3-42f5-4af5-affc-2b490ee9eaa7",
   "metadata": {},
   "outputs": [],
   "source": [
    "# Q1  Why numpy is better then list?\n",
    "# Answer-1.\n",
    "#\t    NumPy is able to divide a task into multiply subtasks and process them parallelly.\n",
    "#\t    And there are also two reason to use numpy instead of list are:\n",
    "#\t\t\t\t\t\t\t\t\t    The numpy consumes less memory than list.\n",
    "#\t\t\t\t\t\t\t\t\t    The numpy array is faster then list.\n"
   ]
  },
  {
   "cell_type": "code",
   "execution_count": 2,
   "id": "3e794ea1-8ae6-4d5b-bba6-cffe36a9a76b",
   "metadata": {},
   "outputs": [],
   "source": [
    "import numpy as np"
   ]
  },
  {
   "cell_type": "code",
   "execution_count": 3,
   "id": "7e9b911a-c020-4a11-b9b7-f3ab36fa219f",
   "metadata": {},
   "outputs": [
    {
     "data": {
      "text/plain": [
       "2"
      ]
     },
     "execution_count": 3,
     "metadata": {},
     "output_type": "execute_result"
    }
   ],
   "source": [
    "# Q2  How do you check size shape and demension of an array?\n",
    "# Ans.2 \n",
    "a=np.array([[1,2,3],[4,5,6],[7,8,9]])\n",
    "a\n",
    "# (for check size)\n",
    "a.size\n",
    "# (For check shape)\n",
    "a.shape\n",
    "# (for check demension)\n",
    "a.ndim"
   ]
  },
  {
   "cell_type": "code",
   "execution_count": 4,
   "id": "fcde6fdd-bdc6-46ec-9b7e-df7649ca2ef6",
   "metadata": {},
   "outputs": [],
   "source": [
    "# Q3"
   ]
  },
  {
   "cell_type": "code",
   "execution_count": 8,
   "id": "cfb079a7-c982-4dd0-a3de-8600bd630dfc",
   "metadata": {},
   "outputs": [
    {
     "name": "stdin",
     "output_type": "stream",
     "text": [
      "Enter size: 1\n",
      "Enter item: 1\n"
     ]
    },
    {
     "data": {
      "text/plain": [
       "array([1])"
      ]
     },
     "execution_count": 8,
     "metadata": {},
     "output_type": "execute_result"
    }
   ],
   "source": [
    "# Q4  How do you create a user define array?\n",
    "# Ans.4 \n",
    "a=[]\n",
    "size=int(input(\"Enter size:\"))\n",
    "for i in range(size):\n",
    "    val=int(input(\"Enter item:\"))\n",
    "    a.append(val)\n",
    "b=np.array(a)\n",
    "b"
   ]
  },
  {
   "cell_type": "code",
   "execution_count": 9,
   "id": "73201dcb-d045-4cb6-aaa0-f22909538348",
   "metadata": {},
   "outputs": [
    {
     "data": {
      "text/html": [
       "<div>\n",
       "<style scoped>\n",
       "    .dataframe tbody tr th:only-of-type {\n",
       "        vertical-align: middle;\n",
       "    }\n",
       "\n",
       "    .dataframe tbody tr th {\n",
       "        vertical-align: top;\n",
       "    }\n",
       "\n",
       "    .dataframe thead th {\n",
       "        text-align: right;\n",
       "    }\n",
       "</style>\n",
       "<table border=\"1\" class=\"dataframe\">\n",
       "  <thead>\n",
       "    <tr style=\"text-align: right;\">\n",
       "      <th></th>\n",
       "      <th>Name</th>\n",
       "      <th>Course</th>\n",
       "      <th>City</th>\n",
       "    </tr>\n",
       "  </thead>\n",
       "  <tbody>\n",
       "    <tr>\n",
       "      <th>0</th>\n",
       "      <td>Devesh</td>\n",
       "      <td>Jango</td>\n",
       "      <td>Sikar</td>\n",
       "    </tr>\n",
       "    <tr>\n",
       "      <th>1</th>\n",
       "      <td>Lakshit</td>\n",
       "      <td>Jango</td>\n",
       "      <td>Baran</td>\n",
       "    </tr>\n",
       "    <tr>\n",
       "      <th>2</th>\n",
       "      <td>Ayush</td>\n",
       "      <td>Jango</td>\n",
       "      <td>Kotputli</td>\n",
       "    </tr>\n",
       "    <tr>\n",
       "      <th>3</th>\n",
       "      <td>Lokseh</td>\n",
       "      <td>AWS</td>\n",
       "      <td>Nagor</td>\n",
       "    </tr>\n",
       "  </tbody>\n",
       "</table>\n",
       "</div>"
      ],
      "text/plain": [
       "      Name Course      City\n",
       "0   Devesh  Jango     Sikar\n",
       "1  Lakshit  Jango     Baran\n",
       "2    Ayush  Jango  Kotputli\n",
       "3   Lokseh    AWS     Nagor"
      ]
     },
     "execution_count": 9,
     "metadata": {},
     "output_type": "execute_result"
    }
   ],
   "source": [
    "# Q5. Diff bw series and dataframe def with example\n",
    "# series:-\n",
    "#          it is use for one deminsional data.\n",
    "#          it shows value of column and not show the column name\n",
    "#          it is immutable\n",
    "#          functionality is less\n",
    "#          each element have a uniwue id\n",
    "import pandas as pd\n",
    "a=pd.Series([1,2,3,4,5])\n",
    "a\n",
    "# dataframe:-\n",
    "#            it is use for multidemensional data.\n",
    "#            it shows the value of of column and also show the column name.\n",
    "#            it is mutable\n",
    "#            functionality is more\n",
    "#            The DataFrame has three main components: the data, which is stored in rows and columns; \n",
    "#            the rows, which are labeled by an index; and \n",
    "#            the columns, which are labeled and contain the actual data.\n",
    "a={\n",
    "    'Name':['Devesh','Lakshit','Ayush','Lokseh'],\n",
    "    'Course':['Jango','Jango','Jango','AWS'],\n",
    "    'City':['Sikar','Baran','Kotputli','Nagor']\n",
    "\n",
    "}\n",
    "df=pd.DataFrame(a)\n",
    "df"
   ]
  },
  {
   "cell_type": "code",
   "execution_count": 11,
   "id": "26fb6916-c33b-4a9a-8064-8dddb518f5e6",
   "metadata": {},
   "outputs": [
    {
     "name": "stdout",
     "output_type": "stream",
     "text": [
      "     A    B    C  D\n",
      "0  1.0  NaN  1.0  1\n",
      "1  2.0  2.0  2.0  2\n",
      "2  NaN  3.0  3.0  3\n",
      "3  4.0  4.0  NaN  4\n",
      "4  5.0  5.0  5.0  5\n",
      "  \n",
      "     A    B    C  D\n",
      "1  2.0  2.0  2.0  2\n",
      "4  5.0  5.0  5.0  5\n",
      " \n",
      "     A    B    C  D\n",
      "0  1.0  NaN  1.0  1\n",
      "1  2.0  2.0  2.0  2\n",
      "2  NaN  3.0  3.0  3\n",
      "3  4.0  4.0  NaN  4\n",
      "4  5.0  5.0  5.0  5\n",
      "  \n",
      "     A    B    C  D\n",
      "0  1.0  0.0  1.0  1\n",
      "1  2.0  2.0  2.0  2\n",
      "2  0.0  3.0  3.0  3\n",
      "3  4.0  4.0  0.0  4\n",
      "4  5.0  5.0  5.0  5\n"
     ]
    }
   ],
   "source": [
    "#6\n",
    "import pandas as pd\n",
    "import numpy as np\n",
    "\n",
    "# create dataframe with missing values\n",
    "data = {\n",
    "    'A': [1, 2, np.nan, 4, 5],\n",
    "    'B': [np.nan, 2, 3, 4, 5],\n",
    "    'C': [1, 2, 3, np.nan, 5],\n",
    "    'D': [1, 2, 3, 4, 5]\n",
    "}\n",
    "df = pd.DataFrame(data)\n",
    "print(df)\n",
    "\n",
    "print(\"  \")\n",
    "# remove rows with missing values\n",
    "df.dropna(inplace=True)\n",
    "print(df)\n",
    "print(\" \")\n",
    "\n",
    "\n",
    "\n",
    "import pandas as pd\n",
    "import numpy as np\n",
    "\n",
    "# create dataframe with missing values\n",
    "data = {\n",
    "    'A': [1, 2, np.nan, 4, 5],\n",
    "    'B': [np.nan, 2, 3, 4, 5],\n",
    "    'C': [1, 2, 3, np.nan, 5],\n",
    "    'D': [1, 2, 3, 4, 5]\n",
    "}\n",
    "df = pd.DataFrame(data)\n",
    "print(df)\n",
    "print(\"  \")\n",
    "# replace missing values with 0\n",
    "df.fillna(value=0, inplace=True)\n",
    "print(df)"
   ]
  },
  {
   "cell_type": "code",
   "execution_count": null,
   "id": "c7803331-3c6a-459e-b25c-5a8916531ea1",
   "metadata": {},
   "outputs": [],
   "source": [
    "# Q7  Diff bw describe and info method \n",
    "#     Describe:-\n",
    "#                Statical view of our data.\n",
    "                 # Exclude non-numeric data\n",
    "#     Info:-\n",
    "#                Datatype information\n",
    "                 # Include both numeric and non-numeric data.\n",
    "df = pd.read_csv(\"C:\\\\Users\\\\deves\\\\Desktop\\\\covid_toy.csv\")"
   ]
  },
  {
   "cell_type": "code",
   "execution_count": null,
   "id": "5d25fbd3-e620-408b-ad7a-87a15e3c7917",
   "metadata": {},
   "outputs": [],
   "source": [
    "df.describe()"
   ]
  },
  {
   "cell_type": "code",
   "execution_count": null,
   "id": "74d6b0cf-2265-4909-86c1-4fc4dc4ff3cb",
   "metadata": {},
   "outputs": [],
   "source": [
    "df.info()"
   ]
  },
  {
   "cell_type": "code",
   "execution_count": null,
   "id": "f17073ab-8417-4581-98c7-06d63b62a49b",
   "metadata": {},
   "outputs": [],
   "source": [
    "# Q8  Diff bw loc amd iloc method in pandas\n",
    "# Ans. loc:-loc is used for indexing and we can access multiple columns.\n",
    "#           we include start and end position in loc.\n",
    "            # it is used for slicing.\n",
    "            # we can use row and column or both to select data.\n",
    "#      Iloc:- it is use for indexing .\n",
    "                # it is also used for slicing the dataset\n",
    "                # it is not include end value when we slice the datsset"
   ]
  },
  {
   "cell_type": "code",
   "execution_count": null,
   "id": "49a422e9-e94c-438b-8dac-43a0e865fed2",
   "metadata": {},
   "outputs": [],
   "source": [
    "#Q9"
   ]
  },
  {
   "cell_type": "code",
   "execution_count": 12,
   "id": "a37df411-eab7-4979-b7d8-498d651d032e",
   "metadata": {},
   "outputs": [
    {
     "name": "stdout",
     "output_type": "stream",
     "text": [
      "    A   B\n",
      "0  A0  B0\n",
      "1  A1  B1\n",
      "2  A2  B2\n"
     ]
    }
   ],
   "source": [
    "# Q10. Merge:- The merge() function is used to combine two DataFrames based on one or more keys.\n",
    "#           It allows you to perform inner, outer, left, and right joins.\n",
    "#           It's typically used when we want to combine DataFrames based on common columns.\n",
    "\n",
    "# Concat==> The concat() function is used to concatenate two or more DataFrames along rows or columns.\n",
    "#           It does a simple concatenation, stacking DataFrames either vertically (along rows) or horizontally (along columns).\n",
    "#           It's typically used when we want to combine DataFrames with the same columns or indexes.\n",
    "# Concat\n",
    "df3 = pd.DataFrame({'A': ['A0', 'A1', 'A2']})\n",
    "df4 = pd.DataFrame({'B': ['B0', 'B1', 'B2']})\n",
    "df_concat = pd.concat([df3, df4], axis=1)\n",
    "print(df_concat)"
   ]
  },
  {
   "cell_type": "code",
   "execution_count": null,
   "id": "9ba4b3c7-15a5-424f-a667-35e071aacb09",
   "metadata": {},
   "outputs": [],
   "source": [
    "# Q11. To rename a column in a Pandas DataFrame, you can use the rename() method. \n",
    "import pandas as pd\n",
    "a= {'y': [10, 11, 12], 'z': [13,14,15]}\n",
    "df = pd.DataFrame(a)\n",
    "# print(df)\n",
    "df.rename(columns={'y': 'X'},inplace=True)\n",
    "print(df)"
   ]
  },
  {
   "cell_type": "code",
   "execution_count": null,
   "id": "e2b5fb58-ab1a-4bca-9f88-4f8ece2fcc26",
   "metadata": {},
   "outputs": [],
   "source": [
    "# 12)\n",
    "import pandas as pd\n",
    "\n",
    "# Creating the DataFrame\n",
    "data = {\n",
    "    'emp_id': [1, 2, 3, 4],\n",
    "    'emp_name': ['Lakshit', 'Ayush', 'Saniya', 'Mansi'],\n",
    "    'department': ['Sales', 'IT', 'Operations', 'Sales'],\n",
    "    'working_hours': [40, 38, 45, 50],\n",
    "    'Salary': [50000, 60000, 55000, 70000]\n",
    "}\n",
    "df = pd.DataFrame(data)\n",
    "\n",
    "# Update 2 employees' salary and working hours\n",
    "df.loc[df.emp_id == 1, 'Salary'] = 52000\n",
    "df.loc[df.emp_id == 2, 'Salary'] = 62000\n",
    "df.loc[df.emp_id == 3, 'working_hours'] = 42\n",
    "df.loc[df.emp_id == 4, 'working_hours'] = 48\n",
    "\n",
    "print(df)\n",
    "print (\"   \")\n",
    "# Create new columns for departments\n",
    "df['Sales'] = df['department'].apply(lambda x: 1 if x == 'Sales' else 0)\n",
    "df['IT'] = df['department'].apply(lambda x: 1 if x == 'IT' else 0)\n",
    "df['Operations'] = df['department'].apply(lambda x: 1 if x == 'Operations',\n",
    "                                                      else 0)\n",
    "print(df)"
   ]
  },
  {
   "cell_type": "code",
   "execution_count": 19,
   "id": "b373cca2-eca4-4c4f-94d3-b1ac10bb9835",
   "metadata": {},
   "outputs": [],
   "source": [
    "#Q14  Diff bw descrete data and continues data \n",
    "# Discrete data:-  Discrete data consists of separate, distinct values with no meaningful order or continuous sequence between them.\n",
    "#                  Examples include integers, categories, or any data that can be counted or enumerated.\n",
    "#                  In Pandas, discrete data is typically represented using integer or categorical data types.\n",
    "\n",
    "# Continues data:- Continuous data represents measurements or values that can take on any value within a certain range.\n",
    "#                  There is a continuous sequence of possible values between any two points.\n",
    "#                  Examples include real numbers, measurements like height, weight, temperature, etc.\n",
    "#                  In Pandas, continuous data is often represented using floating-point data types."
   ]
  },
  {
   "cell_type": "code",
   "execution_count": null,
   "id": "047ce578-badb-4536-8cf9-581f52dda094",
   "metadata": {},
   "outputs": [],
   "source": [
    "# Ans 15\n",
    "#==> Bar Chart:\n",
    "\n",
    "# Useful for comparing numerical values across different categories.\n",
    "#==> Box Plot:\n",
    "\n",
    "# Shows the median, quartiles, and possible outliers.\n",
    "#==> Scatter Plot:\n",
    "\n",
    "# Useful for visualizing the relationship between two numerical variables across different categories.\n",
    "\n",
    "\n",
    "# ==>Histogram:\n",
    "\n",
    "# Suitable for visualizing the distribution of numerical data within different categories.\n"
   ]
  }
 ],
 "metadata": {
  "kernelspec": {
   "display_name": "Python 3 (ipykernel)",
   "language": "python",
   "name": "python3"
  },
  "language_info": {
   "codemirror_mode": {
    "name": "ipython",
    "version": 3
   },
   "file_extension": ".py",
   "mimetype": "text/x-python",
   "name": "python",
   "nbconvert_exporter": "python",
   "pygments_lexer": "ipython3",
   "version": "3.12.3"
  }
 },
 "nbformat": 4,
 "nbformat_minor": 5
}
