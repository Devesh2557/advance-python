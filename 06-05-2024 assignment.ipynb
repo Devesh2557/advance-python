{
 "cells": [
  {
   "cell_type": "code",
   "execution_count": 4,
   "id": "484a3fe3-42f5-4af5-affc-2b490ee9eaa7",
   "metadata": {},
   "outputs": [],
   "source": [
    "# Q1  Why numpy is better then list?\n",
    "# Answer-1.\n",
    "#\t    NumPy is able to divide a task into multiply subtasks and process them parallelly.\n",
    "#\t    And there are also two reason to use numpy instead of list are:\n",
    "#\t\t\t\t\t\t\t\t\t    The numpy consumes less memory than list.\n",
    "#\t\t\t\t\t\t\t\t\t    The numpy array is faster then list.\n"
   ]
  },
  {
   "cell_type": "code",
   "execution_count": 6,
   "id": "3e794ea1-8ae6-4d5b-bba6-cffe36a9a76b",
   "metadata": {},
   "outputs": [],
   "source": [
    "import numpy as np"
   ]
  },
  {
   "cell_type": "code",
   "execution_count": 24,
   "id": "7e9b911a-c020-4a11-b9b7-f3ab36fa219f",
   "metadata": {},
   "outputs": [
    {
     "data": {
      "text/plain": [
       "2"
      ]
     },
     "execution_count": 24,
     "metadata": {},
     "output_type": "execute_result"
    }
   ],
   "source": [
    "# Q2  How do you check size shape and demension of an array?\n",
    "# Ans.2 \n",
    "a=np.array([[1,2,3],[4,5,6],[7,8,9]])\n",
    "a\n",
    "# (for check size)\n",
    "a.size\n",
    "# (For check shape)\n",
    "a.shape\n",
    "# (for check demension)\n",
    "a.ndim"
   ]
  },
  {
   "cell_type": "code",
   "execution_count": null,
   "id": "fcde6fdd-bdc6-46ec-9b7e-df7649ca2ef6",
   "metadata": {},
   "outputs": [],
   "source": [
    "# Q3"
   ]
  },
  {
   "cell_type": "code",
   "execution_count": 12,
   "id": "cfb079a7-c982-4dd0-a3de-8600bd630dfc",
   "metadata": {},
   "outputs": [
    {
     "name": "stdin",
     "output_type": "stream",
     "text": [
      "Enter size: 5\n",
      "Enter item: 1\n",
      "Enter item: 2\n",
      "Enter item: 3\n",
      "Enter item: 4\n",
      "Enter item: 5\n"
     ]
    },
    {
     "data": {
      "text/plain": [
       "array([1, 2, 3, 4, 5])"
      ]
     },
     "execution_count": 12,
     "metadata": {},
     "output_type": "execute_result"
    }
   ],
   "source": [
    "# Q4  How do you create a user define array?\n",
    "# Ans.3 \n",
    "a=[]\n",
    "size=int(input(\"Enter size:\"))\n",
    "for i in range(size):\n",
    "    val=int(input(\"Enter item:\"))\n",
    "    a.append(val)\n",
    "b=np.array(a)\n",
    "b"
   ]
  },
  {
   "cell_type": "code",
   "execution_count": 19,
   "id": "73201dcb-d045-4cb6-aaa0-f22909538348",
   "metadata": {},
   "outputs": [
    {
     "data": {
      "text/html": [
       "<div>\n",
       "<style scoped>\n",
       "    .dataframe tbody tr th:only-of-type {\n",
       "        vertical-align: middle;\n",
       "    }\n",
       "\n",
       "    .dataframe tbody tr th {\n",
       "        vertical-align: top;\n",
       "    }\n",
       "\n",
       "    .dataframe thead th {\n",
       "        text-align: right;\n",
       "    }\n",
       "</style>\n",
       "<table border=\"1\" class=\"dataframe\">\n",
       "  <thead>\n",
       "    <tr style=\"text-align: right;\">\n",
       "      <th></th>\n",
       "      <th>Name</th>\n",
       "      <th>Course</th>\n",
       "      <th>City</th>\n",
       "    </tr>\n",
       "  </thead>\n",
       "  <tbody>\n",
       "    <tr>\n",
       "      <th>0</th>\n",
       "      <td>Devesh</td>\n",
       "      <td>Jango</td>\n",
       "      <td>Sikar</td>\n",
       "    </tr>\n",
       "    <tr>\n",
       "      <th>1</th>\n",
       "      <td>Lakshit</td>\n",
       "      <td>Jango</td>\n",
       "      <td>Baran</td>\n",
       "    </tr>\n",
       "    <tr>\n",
       "      <th>2</th>\n",
       "      <td>Ayush</td>\n",
       "      <td>Jango</td>\n",
       "      <td>Kotputli</td>\n",
       "    </tr>\n",
       "    <tr>\n",
       "      <th>3</th>\n",
       "      <td>Lokseh</td>\n",
       "      <td>AWS</td>\n",
       "      <td>Nagor</td>\n",
       "    </tr>\n",
       "  </tbody>\n",
       "</table>\n",
       "</div>"
      ],
      "text/plain": [
       "      Name Course      City\n",
       "0   Devesh  Jango     Sikar\n",
       "1  Lakshit  Jango     Baran\n",
       "2    Ayush  Jango  Kotputli\n",
       "3   Lokseh    AWS     Nagor"
      ]
     },
     "execution_count": 19,
     "metadata": {},
     "output_type": "execute_result"
    }
   ],
   "source": [
    "# Q5. Diff bw series and dataframe def with example\n",
    "# series:-\n",
    "#          it is use for one deminsional data.\n",
    "#          it shows value of column and not show the column name\n",
    "#          it is immutable\n",
    "#          functionality is less\n",
    "#          each element have a uniwue id\n",
    "import pandas as pd\n",
    "a=pd.Series([1,2,3,4,5])\n",
    "a\n",
    "# dataframe:-\n",
    "#            it is use for multidemensional data.\n",
    "#            it shows the value of of column and also show the column name.\n",
    "#            it is mutable\n",
    "#            functionality is more\n",
    "#            The DataFrame has three main components: the data, which is stored in rows and columns; \n",
    "#            the rows, which are labeled by an index; and \n",
    "#            the columns, which are labeled and contain the actual data.\n",
    "a={\n",
    "    'Name':['Devesh','Lakshit','Ayush','Lokseh'],\n",
    "    'Course':['Jango','Jango','Jango','AWS'],\n",
    "    'City':['Sikar','Baran','Kotputli','Nagor']\n",
    "\n",
    "}\n",
    "df=pd.DataFrame(a)\n",
    "df"
   ]
  },
  {
   "cell_type": "code",
   "execution_count": 26,
   "id": "c7803331-3c6a-459e-b25c-5a8916531ea1",
   "metadata": {},
   "outputs": [],
   "source": [
    "# Q7  Diff bw describe and info method \n",
    "#     Describe:-\n",
    "#                Statical view of our data.\n",
    "                 # Exclude non-numeric data\n",
    "#     Info:-\n",
    "#                Datatype information\n",
    "                 # Include both numeric and non-numeric data.\n",
    "df = pd.read_csv(\"C:\\\\Users\\\\deves\\\\Desktop\\\\covid_toy.csv\")"
   ]
  },
  {
   "cell_type": "code",
   "execution_count": 29,
   "id": "5d25fbd3-e620-408b-ad7a-87a15e3c7917",
   "metadata": {},
   "outputs": [
    {
     "data": {
      "text/html": [
       "<div>\n",
       "<style scoped>\n",
       "    .dataframe tbody tr th:only-of-type {\n",
       "        vertical-align: middle;\n",
       "    }\n",
       "\n",
       "    .dataframe tbody tr th {\n",
       "        vertical-align: top;\n",
       "    }\n",
       "\n",
       "    .dataframe thead th {\n",
       "        text-align: right;\n",
       "    }\n",
       "</style>\n",
       "<table border=\"1\" class=\"dataframe\">\n",
       "  <thead>\n",
       "    <tr style=\"text-align: right;\">\n",
       "      <th></th>\n",
       "      <th>age</th>\n",
       "      <th>fever</th>\n",
       "    </tr>\n",
       "  </thead>\n",
       "  <tbody>\n",
       "    <tr>\n",
       "      <th>count</th>\n",
       "      <td>100.000000</td>\n",
       "      <td>90.000000</td>\n",
       "    </tr>\n",
       "    <tr>\n",
       "      <th>mean</th>\n",
       "      <td>44.220000</td>\n",
       "      <td>100.844444</td>\n",
       "    </tr>\n",
       "    <tr>\n",
       "      <th>std</th>\n",
       "      <td>24.878931</td>\n",
       "      <td>2.054926</td>\n",
       "    </tr>\n",
       "    <tr>\n",
       "      <th>min</th>\n",
       "      <td>5.000000</td>\n",
       "      <td>98.000000</td>\n",
       "    </tr>\n",
       "    <tr>\n",
       "      <th>25%</th>\n",
       "      <td>20.000000</td>\n",
       "      <td>99.000000</td>\n",
       "    </tr>\n",
       "    <tr>\n",
       "      <th>50%</th>\n",
       "      <td>45.000000</td>\n",
       "      <td>101.000000</td>\n",
       "    </tr>\n",
       "    <tr>\n",
       "      <th>75%</th>\n",
       "      <td>66.500000</td>\n",
       "      <td>102.750000</td>\n",
       "    </tr>\n",
       "    <tr>\n",
       "      <th>max</th>\n",
       "      <td>84.000000</td>\n",
       "      <td>104.000000</td>\n",
       "    </tr>\n",
       "  </tbody>\n",
       "</table>\n",
       "</div>"
      ],
      "text/plain": [
       "              age       fever\n",
       "count  100.000000   90.000000\n",
       "mean    44.220000  100.844444\n",
       "std     24.878931    2.054926\n",
       "min      5.000000   98.000000\n",
       "25%     20.000000   99.000000\n",
       "50%     45.000000  101.000000\n",
       "75%     66.500000  102.750000\n",
       "max     84.000000  104.000000"
      ]
     },
     "execution_count": 29,
     "metadata": {},
     "output_type": "execute_result"
    }
   ],
   "source": [
    "df.describe()"
   ]
  },
  {
   "cell_type": "code",
   "execution_count": 30,
   "id": "74d6b0cf-2265-4909-86c1-4fc4dc4ff3cb",
   "metadata": {},
   "outputs": [
    {
     "name": "stdout",
     "output_type": "stream",
     "text": [
      "<class 'pandas.core.frame.DataFrame'>\n",
      "RangeIndex: 100 entries, 0 to 99\n",
      "Data columns (total 6 columns):\n",
      " #   Column     Non-Null Count  Dtype  \n",
      "---  ------     --------------  -----  \n",
      " 0   age        100 non-null    int64  \n",
      " 1   gender     100 non-null    object \n",
      " 2   fever      90 non-null     float64\n",
      " 3   cough      100 non-null    object \n",
      " 4   city       100 non-null    object \n",
      " 5   has_covid  100 non-null    object \n",
      "dtypes: float64(1), int64(1), object(4)\n",
      "memory usage: 4.8+ KB\n"
     ]
    }
   ],
   "source": [
    "df.info()"
   ]
  },
  {
   "cell_type": "code",
   "execution_count": 31,
   "id": "f17073ab-8417-4581-98c7-06d63b62a49b",
   "metadata": {},
   "outputs": [],
   "source": [
    "# Q8  Diff bw loc amd iloc method in pandas\n",
    "# Ans. loc:-loc is used for indexing and we can access multiple columns.\n",
    "#           we include start and end position in loc.\n",
    "            # it is used for slicing.\n",
    "            # we can use row and column or both to select data.\n",
    "#      Iloc:- it is use for indexing .\n",
    "                # it is also used for slicing the dataset\n",
    "                # it is not include end value when we slice the datsset"
   ]
  },
  {
   "cell_type": "code",
   "execution_count": 32,
   "id": "49a422e9-e94c-438b-8dac-43a0e865fed2",
   "metadata": {},
   "outputs": [],
   "source": [
    "#Q9"
   ]
  },
  {
   "cell_type": "code",
   "execution_count": 33,
   "id": "a37df411-eab7-4979-b7d8-498d651d032e",
   "metadata": {},
   "outputs": [],
   "source": [
    "# Q10. Merge:- The merge() function is used to combine two DataFrames based on one or more keys.\n",
    "#           It allows you to perform inner, outer, left, and right joins.\n",
    "#           It's typically used when we want to combine DataFrames based on common columns.\n",
    "\n",
    "# Concat==> The concat() function is used to concatenate two or more DataFrames along rows or columns.\n",
    "#           It does a simple concatenation, stacking DataFrames either vertically (along rows) or horizontally (along columns).\n",
    "#           It's typically used when we want to combine DataFrames with the same columns or indexes."
   ]
  },
  {
   "cell_type": "code",
   "execution_count": 39,
   "id": "9ba4b3c7-15a5-424f-a667-35e071aacb09",
   "metadata": {},
   "outputs": [
    {
     "name": "stdout",
     "output_type": "stream",
     "text": [
      "    X   z\n",
      "0  10  13\n",
      "1  11  14\n",
      "2  12  15\n"
     ]
    }
   ],
   "source": [
    "# Q11. To rename a column in a Pandas DataFrame, you can use the rename() method. \n",
    "import pandas as pd\n",
    "a= {'y': [10, 11, 12], 'z': [13,14,15]}\n",
    "df = pd.DataFrame(a)\n",
    "# print(df)\n",
    "df.rename(columns={'y': 'X'},inplace=True)\n",
    "print(df)"
   ]
  },
  {
   "cell_type": "code",
   "execution_count": null,
   "id": "b373cca2-eca4-4c4f-94d3-b1ac10bb9835",
   "metadata": {},
   "outputs": [],
   "source": [
    "#Q14  Diff bw descrete data and continues data \n",
    "# Discrete data:-  Discrete data consists of separate, distinct values with no meaningful order or continuous sequence between them.\n",
    "#                  Examples include integers, categories, or any data that can be counted or enumerated.\n",
    "#                  In Pandas, discrete data is typically represented using integer or categorical data types.\n",
    "\n",
    "# Conitu"
   ]
  }
 ],
 "metadata": {
  "kernelspec": {
   "display_name": "Python 3 (ipykernel)",
   "language": "python",
   "name": "python3"
  },
  "language_info": {
   "codemirror_mode": {
    "name": "ipython",
    "version": 3
   },
   "file_extension": ".py",
   "mimetype": "text/x-python",
   "name": "python",
   "nbconvert_exporter": "python",
   "pygments_lexer": "ipython3",
   "version": "3.12.3"
  }
 },
 "nbformat": 4,
 "nbformat_minor": 5
}
