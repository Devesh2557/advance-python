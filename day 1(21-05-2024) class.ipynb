{
 "cells": [
  {
   "cell_type": "code",
   "execution_count": 1,
   "id": "dae91c25-0cf3-4350-9acc-3b33799d0fab",
   "metadata": {},
   "outputs": [],
   "source": [
    "# how to create a user define array"
   ]
  },
  {
   "cell_type": "code",
   "execution_count": 4,
   "id": "b03d351f-198f-4a33-b8b2-76aa339c8975",
   "metadata": {},
   "outputs": [],
   "source": [
    "import numpy"
   ]
  },
  {
   "cell_type": "code",
   "execution_count": 6,
   "id": "394b5f52-6358-4771-bb0e-942fe3a849af",
   "metadata": {},
   "outputs": [],
   "source": [
    "import numpy as np"
   ]
  },
  {
   "cell_type": "code",
   "execution_count": 10,
   "id": "69df76e9-9d7e-4256-9ab3-846bc54cd36a",
   "metadata": {},
   "outputs": [
    {
     "name": "stdin",
     "output_type": "stream",
     "text": [
      "Enter size: 3\n",
      "Enter item: sam\n",
      "Enter item: 45\n",
      "Enter item: raj\n"
     ]
    },
    {
     "data": {
      "text/plain": [
       "array(['sam', '45', 'raj'], dtype='<U3')"
      ]
     },
     "execution_count": 10,
     "metadata": {},
     "output_type": "execute_result"
    }
   ],
   "source": [
    "a=[]\n",
    "size=int(input(\"Enter size:\"))\n",
    "for i in range(size):\n",
    "    val=(input(\"Enter item:\"))\n",
    "    a.append(val)\n",
    "b=np.array(a)\n",
    "b"
   ]
  },
  {
   "cell_type": "code",
   "execution_count": 11,
   "id": "95eefcb7-698a-4f06-909f-2416ba129376",
   "metadata": {},
   "outputs": [
    {
     "name": "stdin",
     "output_type": "stream",
     "text": [
      "Enter size: 5\n",
      "Enter item: 6\n",
      "Enter item: 8\n",
      "Enter item: 9\n",
      "Enter item: 4\n",
      "Enter item: 5\n"
     ]
    },
    {
     "data": {
      "text/plain": [
       "array([6, 8, 9, 4, 5])"
      ]
     },
     "execution_count": 11,
     "metadata": {},
     "output_type": "execute_result"
    }
   ],
   "source": [
    "a=[]\n",
    "size=int(input(\"Enter size:\"))\n",
    "for i in range(size):\n",
    "    val=int(input(\"Enter item:\"))\n",
    "    a.append(val)\n",
    "b=np.array(a)\n",
    "b"
   ]
  },
  {
   "cell_type": "code",
   "execution_count": 12,
   "id": "6c78e471-cfba-4fe1-934c-5033c7deda33",
   "metadata": {},
   "outputs": [],
   "source": [
    "#how can we caheck shape and of an array\n"
   ]
  },
  {
   "cell_type": "code",
   "execution_count": 13,
   "id": "3ffa33a8-aa08-47be-8ab3-899a37db6c2a",
   "metadata": {},
   "outputs": [],
   "source": [
    "a=np.array([1,34,89,9900])"
   ]
  },
  {
   "cell_type": "code",
   "execution_count": 14,
   "id": "6dd95e08-5125-4068-bd20-c31130f038b2",
   "metadata": {},
   "outputs": [
    {
     "data": {
      "text/plain": [
       "array([   1,   34,   89, 9900])"
      ]
     },
     "execution_count": 14,
     "metadata": {},
     "output_type": "execute_result"
    }
   ],
   "source": [
    "a"
   ]
  },
  {
   "cell_type": "code",
   "execution_count": 15,
   "id": "32f4276f-6d5f-4274-85a7-6c01ce88dcbe",
   "metadata": {},
   "outputs": [
    {
     "name": "stdout",
     "output_type": "stream",
     "text": [
      "Total shape= (4,)\n",
      "Total element= 4\n"
     ]
    }
   ],
   "source": [
    "print(\"Total shape=\",a.shape)\n",
    "print(\"Total element=\",a.size)"
   ]
  },
  {
   "cell_type": "code",
   "execution_count": 16,
   "id": "f4824a55-e93d-4bab-9e47-e02e9c4f7d80",
   "metadata": {},
   "outputs": [
    {
     "data": {
      "text/plain": [
       "array([[1, 2, 3],\n",
       "       [4, 5, 6],\n",
       "       [7, 8, 9]])"
      ]
     },
     "execution_count": 16,
     "metadata": {},
     "output_type": "execute_result"
    }
   ],
   "source": [
    "a=[[1,2,3] ,[4,5,6], [7,8,9]]\n",
    "b=np.array(a)\n",
    "b"
   ]
  },
  {
   "cell_type": "code",
   "execution_count": 19,
   "id": "b716199f-c8bd-4eee-8526-0c8db3ea7c35",
   "metadata": {},
   "outputs": [],
   "source": [
    "#row_1=[1,2,3]\n",
    "#row_2=[4,5,6]\n",
    "#row_3=[7,8,9]\n",
    "\n",
    "#col_1=[1,4,7]\n",
    "#col_2=[2,5,8]\n",
    "#col_3=[3,6,9]"
   ]
  },
  {
   "cell_type": "code",
   "execution_count": 20,
   "id": "8da6aa75-a0a6-430a-b318-8a3671b58620",
   "metadata": {},
   "outputs": [
    {
     "name": "stdout",
     "output_type": "stream",
     "text": [
      "Total shape= (3, 3)\n",
      "Total element= 9\n"
     ]
    }
   ],
   "source": [
    "print(\"Total shape=\",b.shape)\n",
    "print(\"Total element=\",b.size)"
   ]
  },
  {
   "cell_type": "code",
   "execution_count": 21,
   "id": "c4c8a47e-7c0c-40e0-bf12-f08e617d5757",
   "metadata": {},
   "outputs": [],
   "source": [
    "# images====> pixels(0-255) ====> opx black , 255px white ====> Normalize(0-1)px\n",
    "\n",
    "# Intially weights ====? 0 , 1\n",
    "\n",
    "# optimization ====> 0,1\n",
    "\n",
    "# matrix ====> n(rows) = n(columns)\n",
    "\n",
    "# symmatric matrix ====> n(rows) = n(columns)\n",
    "\n",
    "# Asymtaarix matrix ====> n(rows) !=n(columns)"
   ]
  },
  {
   "cell_type": "code",
   "execution_count": 25,
   "id": "8ec28f5a-f357-4d24-b2c4-b31046a59072",
   "metadata": {},
   "outputs": [],
   "source": [
    "#predefine functions\n",
    "#    (1) zeros() ====> it will create an array in which all the elements are 0"
   ]
  },
  {
   "cell_type": "code",
   "execution_count": 26,
   "id": "71dc4b70-45b3-451b-8041-c9b9c6d646b0",
   "metadata": {},
   "outputs": [
    {
     "data": {
      "text/plain": [
       "array([0., 0., 0., 0.])"
      ]
     },
     "execution_count": 26,
     "metadata": {},
     "output_type": "execute_result"
    }
   ],
   "source": [
    "a=np.zeros(4)\n",
    "a"
   ]
  },
  {
   "cell_type": "code",
   "execution_count": 27,
   "id": "15a1c33c-9c23-474e-9ea8-caa2a2a44b66",
   "metadata": {},
   "outputs": [
    {
     "data": {
      "text/plain": [
       "array([[0., 0., 0.],\n",
       "       [0., 0., 0.]])"
      ]
     },
     "execution_count": 27,
     "metadata": {},
     "output_type": "execute_result"
    }
   ],
   "source": [
    "a=np.zeros((2,3))\n",
    "a"
   ]
  },
  {
   "cell_type": "code",
   "execution_count": 28,
   "id": "e3e2a2fb-801f-490c-b440-1c7066426825",
   "metadata": {},
   "outputs": [],
   "source": [
    "#  (2) ones() ====> it will create an array in which all the elements are 1"
   ]
  },
  {
   "cell_type": "code",
   "execution_count": 31,
   "id": "c689676d-f17c-487d-99df-11461bdf00bb",
   "metadata": {},
   "outputs": [
    {
     "data": {
      "text/plain": [
       "array([1., 1., 1., 1.])"
      ]
     },
     "execution_count": 31,
     "metadata": {},
     "output_type": "execute_result"
    }
   ],
   "source": [
    "a=np.ones(4)\n",
    "a"
   ]
  },
  {
   "cell_type": "code",
   "execution_count": 32,
   "id": "621da580-ee88-4bf4-a5c1-1717115d0a14",
   "metadata": {},
   "outputs": [
    {
     "data": {
      "text/plain": [
       "array([[1., 1., 1.],\n",
       "       [1., 1., 1.]])"
      ]
     },
     "execution_count": 32,
     "metadata": {},
     "output_type": "execute_result"
    }
   ],
   "source": [
    "a=np.ones((2,3))\n",
    "a"
   ]
  },
  {
   "cell_type": "code",
   "execution_count": 33,
   "id": "cbdcf243-f8d2-4c58-8ed4-18b8fc9d81b7",
   "metadata": {},
   "outputs": [
    {
     "data": {
      "text/plain": [
       "numpy.ndarray"
      ]
     },
     "execution_count": 33,
     "metadata": {},
     "output_type": "execute_result"
    }
   ],
   "source": [
    "type(a)"
   ]
  },
  {
   "cell_type": "code",
   "execution_count": 34,
   "id": "0bda7f02-d114-4c77-9b61-ffcfecab196d",
   "metadata": {},
   "outputs": [
    {
     "data": {
      "text/plain": [
       "(2, 3)"
      ]
     },
     "execution_count": 34,
     "metadata": {},
     "output_type": "execute_result"
    }
   ],
   "source": [
    "a.shape"
   ]
  },
  {
   "cell_type": "code",
   "execution_count": 35,
   "id": "7d1bcab3-ac9a-4b1d-a07d-347653757dbb",
   "metadata": {},
   "outputs": [
    {
     "data": {
      "text/plain": [
       "6"
      ]
     },
     "execution_count": 35,
     "metadata": {},
     "output_type": "execute_result"
    }
   ],
   "source": [
    "a.size"
   ]
  },
  {
   "cell_type": "code",
   "execution_count": 36,
   "id": "5fc75f08-6c09-4a93-98d3-315bb0776b30",
   "metadata": {},
   "outputs": [],
   "source": [
    "# (3). eye() ====> in this function diagnolpostional are 1 and rest all are zero."
   ]
  },
  {
   "cell_type": "code",
   "execution_count": 37,
   "id": "46485684-cfa7-4955-aa4a-5db9db62c11a",
   "metadata": {},
   "outputs": [
    {
     "data": {
      "text/plain": [
       "array([[1., 0., 0., 0.],\n",
       "       [0., 1., 0., 0.],\n",
       "       [0., 0., 1., 0.],\n",
       "       [0., 0., 0., 1.]])"
      ]
     },
     "execution_count": 37,
     "metadata": {},
     "output_type": "execute_result"
    }
   ],
   "source": [
    "a=np.eye(4) # symmetric matrix\n",
    "a"
   ]
  },
  {
   "cell_type": "code",
   "execution_count": 39,
   "id": "06ca4c36-2d5a-4c90-b753-716b106c5b9c",
   "metadata": {},
   "outputs": [
    {
     "data": {
      "text/plain": [
       "array([[1., 0., 0., 0.],\n",
       "       [0., 1., 0., 0.],\n",
       "       [0., 0., 1., 0.]])"
      ]
     },
     "execution_count": 39,
     "metadata": {},
     "output_type": "execute_result"
    }
   ],
   "source": [
    "a=np.eye(3,4) # asymatric matrix\n",
    "a"
   ]
  },
  {
   "cell_type": "code",
   "execution_count": 3,
   "id": "b4bd5607-d588-4646-bfa8-256491c352f5",
   "metadata": {},
   "outputs": [],
   "source": [
    "# (4). diag====> this function creats a two dimendional array with all the diagonal elements as the given value and rest are zero"
   ]
  },
  {
   "cell_type": "code",
   "execution_count": 4,
   "id": "1ef71718-5805-4cf3-ab12-3c8672653574",
   "metadata": {},
   "outputs": [
    {
     "data": {
      "text/plain": [
       "array([[1, 0, 0, 0],\n",
       "       [0, 4, 0, 0],\n",
       "       [0, 0, 8, 0],\n",
       "       [0, 0, 0, 9]])"
      ]
     },
     "execution_count": 4,
     "metadata": {},
     "output_type": "execute_result"
    }
   ],
   "source": [
    "import numpy as np\n",
    "a=np.diag([1,4,8,9])\n",
    "a"
   ]
  },
  {
   "cell_type": "code",
   "execution_count": 5,
   "id": "b89af6f6-94bd-46b7-aa12-cdd2dfd83dc9",
   "metadata": {},
   "outputs": [],
   "source": [
    "# (5)randint==> this function is used to generate a random number between a given range\n",
    "# syntax == randint(min_value,max_value,total-numbers)"
   ]
  },
  {
   "cell_type": "code",
   "execution_count": 7,
   "id": "58d197d2-4f0d-4ab6-a927-edd8d06cd669",
   "metadata": {},
   "outputs": [
    {
     "data": {
      "text/plain": [
       "array([8, 9, 4])"
      ]
     },
     "execution_count": 7,
     "metadata": {},
     "output_type": "execute_result"
    }
   ],
   "source": [
    "import numpy as np\n",
    "a=np.random.randint(1,10,3)\n",
    "a"
   ]
  },
  {
   "cell_type": "code",
   "execution_count": 8,
   "id": "eb27a0be-a29d-4f03-9ddc-dfdf082c58d8",
   "metadata": {},
   "outputs": [],
   "source": [
    "# (6). rand()==> this function is used to geneate a random number between 0 to 1\n",
    "# syntax == rand(numberofvalues)"
   ]
  },
  {
   "cell_type": "code",
   "execution_count": 10,
   "id": "84b9b0d8-3a9e-4c97-9b4c-953bc2402509",
   "metadata": {},
   "outputs": [
    {
     "data": {
      "text/plain": [
       "array([0.54622744, 0.16090257, 0.4347172 , 0.64583256, 0.2795605 ])"
      ]
     },
     "execution_count": 10,
     "metadata": {},
     "output_type": "execute_result"
    }
   ],
   "source": [
    "import numpy as np\n",
    "a=np.random.rand(5)\n",
    "a"
   ]
  },
  {
   "cell_type": "code",
   "execution_count": 11,
   "id": "c7759280-796a-482b-8525-516800c06a03",
   "metadata": {},
   "outputs": [],
   "source": [
    "# (7) rnadn()==> this function is used to generate a random number from -3 to close 3. this may return positive or negative as well"
   ]
  },
  {
   "cell_type": "code",
   "execution_count": 12,
   "id": "4f348698-6e33-4486-baf0-38165eee613b",
   "metadata": {},
   "outputs": [],
   "source": [
    "# reshaping data"
   ]
  },
  {
   "cell_type": "code",
   "execution_count": 13,
   "id": "7d978ac8-580c-44e4-a9f0-3b3c1d90df55",
   "metadata": {},
   "outputs": [
    {
     "data": {
      "text/plain": [
       "array([20, 36, 43, 42, 12,  5, 46, 48, 45, 15, 42, 36])"
      ]
     },
     "execution_count": 13,
     "metadata": {},
     "output_type": "execute_result"
    }
   ],
   "source": [
    "a=np.random.randint(1,50,12)\n",
    "a"
   ]
  },
  {
   "cell_type": "code",
   "execution_count": 14,
   "id": "a114b73c-1cbe-4ec1-8120-b517dedb65d7",
   "metadata": {},
   "outputs": [],
   "source": [
    "# n(rows) * n(columns) = n(total_elements("
   ]
  },
  {
   "cell_type": "code",
   "execution_count": 15,
   "id": "7582d29c-0025-4e8a-bc35-7c84e16e2b78",
   "metadata": {},
   "outputs": [
    {
     "data": {
      "text/plain": [
       "(12,)"
      ]
     },
     "execution_count": 15,
     "metadata": {},
     "output_type": "execute_result"
    }
   ],
   "source": [
    "a.shape"
   ]
  },
  {
   "cell_type": "code",
   "execution_count": 16,
   "id": "45a88464-6652-4a8c-b8d8-5147ef8c8730",
   "metadata": {},
   "outputs": [
    {
     "data": {
      "text/plain": [
       "array([[20, 36, 43, 42, 12,  5],\n",
       "       [46, 48, 45, 15, 42, 36]])"
      ]
     },
     "execution_count": 16,
     "metadata": {},
     "output_type": "execute_result"
    }
   ],
   "source": [
    "a=a.reshape(2,6)\n",
    "a"
   ]
  },
  {
   "cell_type": "code",
   "execution_count": 17,
   "id": "0f262fa4-4bc8-49df-a6ca-327ad9f90e53",
   "metadata": {},
   "outputs": [
    {
     "data": {
      "text/plain": [
       "array([[20, 36],\n",
       "       [43, 42],\n",
       "       [12,  5],\n",
       "       [46, 48],\n",
       "       [45, 15],\n",
       "       [42, 36]])"
      ]
     },
     "execution_count": 17,
     "metadata": {},
     "output_type": "execute_result"
    }
   ],
   "source": [
    "a=a.reshape(6,2)\n",
    "a"
   ]
  },
  {
   "cell_type": "code",
   "execution_count": 18,
   "id": "702a64ba-e2b2-4995-b18f-40a103051dbe",
   "metadata": {},
   "outputs": [
    {
     "data": {
      "text/plain": [
       "array([[20, 36, 43, 42],\n",
       "       [12,  5, 46, 48],\n",
       "       [45, 15, 42, 36]])"
      ]
     },
     "execution_count": 18,
     "metadata": {},
     "output_type": "execute_result"
    }
   ],
   "source": [
    "a=a.reshape(3,4)\n",
    "a"
   ]
  },
  {
   "cell_type": "code",
   "execution_count": 19,
   "id": "10989252-d21e-4780-b70a-b2b7b2cc0ae4",
   "metadata": {},
   "outputs": [
    {
     "data": {
      "text/plain": [
       "array([[20, 36, 43],\n",
       "       [42, 12,  5],\n",
       "       [46, 48, 45],\n",
       "       [15, 42, 36]])"
      ]
     },
     "execution_count": 19,
     "metadata": {},
     "output_type": "execute_result"
    }
   ],
   "source": [
    "a=a.reshape(4,3)\n",
    "a"
   ]
  },
  {
   "cell_type": "code",
   "execution_count": 20,
   "id": "fe40a318-9151-4318-99a0-9bbd248b2a7a",
   "metadata": {},
   "outputs": [],
   "source": [
    "# principal of -1"
   ]
  },
  {
   "cell_type": "code",
   "execution_count": 21,
   "id": "a8e78069-c448-4ee8-9ab5-46d619f3957b",
   "metadata": {},
   "outputs": [
    {
     "data": {
      "text/plain": [
       "array([[20, 36, 43, 42],\n",
       "       [12,  5, 46, 48],\n",
       "       [45, 15, 42, 36]])"
      ]
     },
     "execution_count": 21,
     "metadata": {},
     "output_type": "execute_result"
    }
   ],
   "source": [
    "a=a.reshape(-1,4)\n",
    "a"
   ]
  },
  {
   "cell_type": "code",
   "execution_count": 25,
   "id": "50535802-234a-4a62-867d-6932a31fda02",
   "metadata": {},
   "outputs": [],
   "source": [
    "# seed function() ==> we know that randint function generates random numbers. everytime we run the program new set of random number is generated, so solve this problem we wikk use seed function "
   ]
  },
  {
   "cell_type": "code",
   "execution_count": 26,
   "id": "2bdcfc9f-4829-40dc-b2a8-7c5702d943ed",
   "metadata": {},
   "outputs": [
    {
     "data": {
      "text/plain": [
       "array([79, 62, 17, 74,  9, 63, 28, 31, 81,  8])"
      ]
     },
     "execution_count": 26,
     "metadata": {},
     "output_type": "execute_result"
    }
   ],
   "source": [
    "np.random.seed(5)\n",
    "a=np.random.randint(1,100,10)\n",
    "a"
   ]
  },
  {
   "cell_type": "code",
   "execution_count": 27,
   "id": "738c763d-e05a-4f43-8154-2f0596d032a3",
   "metadata": {},
   "outputs": [],
   "source": [
    "# view vs copy ==> when we silce a sub array from an array it may be done by two ways."
   ]
  },
  {
   "cell_type": "code",
   "execution_count": 28,
   "id": "05f3ad2b-0d21-4597-a8fa-44ee08268835",
   "metadata": {},
   "outputs": [
    {
     "data": {
      "text/plain": [
       "array([10, 20, 30,  0,  0,  0, 70, 80])"
      ]
     },
     "execution_count": 28,
     "metadata": {},
     "output_type": "execute_result"
    }
   ],
   "source": [
    "a=np.array([10,20,30,40,50,60,70,80])\n",
    "b=a[3:6]\n",
    "b[:]=0\n",
    "a"
   ]
  },
  {
   "cell_type": "code",
   "execution_count": 29,
   "id": "69c2bde2-bfbc-4de6-90ad-41906f994900",
   "metadata": {},
   "outputs": [],
   "source": [
    "# copy"
   ]
  },
  {
   "cell_type": "code",
   "execution_count": 30,
   "id": "57b6a162-1850-463a-a77a-3eda38c60060",
   "metadata": {},
   "outputs": [
    {
     "data": {
      "text/plain": [
       "array([10, 20, 30, 40, 50, 60, 70, 80])"
      ]
     },
     "execution_count": 30,
     "metadata": {},
     "output_type": "execute_result"
    }
   ],
   "source": [
    "a=np.array([10,20,30,40,50,60,70,80])\n",
    "b=a[3:6].copy()\n",
    "b[:]=0\n",
    "a"
   ]
  },
  {
   "cell_type": "code",
   "execution_count": 31,
   "id": "5cce7fcc-5ce7-4c2d-9007-bfc5b842619a",
   "metadata": {},
   "outputs": [
    {
     "data": {
      "text/plain": [
       "array([0, 0, 0])"
      ]
     },
     "execution_count": 31,
     "metadata": {},
     "output_type": "execute_result"
    }
   ],
   "source": [
    "b"
   ]
  },
  {
   "cell_type": "code",
   "execution_count": 32,
   "id": "1df42354-956f-492f-a551-cb8ef0ad9abe",
   "metadata": {},
   "outputs": [],
   "source": [
    "# conditional selection"
   ]
  },
  {
   "cell_type": "code",
   "execution_count": 33,
   "id": "01bc4fe0-86ad-4753-bca3-5217c9406097",
   "metadata": {},
   "outputs": [
    {
     "data": {
      "text/plain": [
       "array([ 1,  2,  3,  4,  5,  6,  7,  8,  9, 10, 11, 12, 13, 14, 15])"
      ]
     },
     "execution_count": 33,
     "metadata": {},
     "output_type": "execute_result"
    }
   ],
   "source": [
    "a=np.arange(1,16)\n",
    "a"
   ]
  },
  {
   "cell_type": "code",
   "execution_count": 34,
   "id": "71ac8d6d-1ced-472b-8201-142321068a7b",
   "metadata": {},
   "outputs": [
    {
     "data": {
      "text/plain": [
       "array([False, False, False, False, False, False, False, False, False,\n",
       "       False,  True,  True,  True,  True,  True])"
      ]
     },
     "execution_count": 34,
     "metadata": {},
     "output_type": "execute_result"
    }
   ],
   "source": [
    "a>10"
   ]
  },
  {
   "cell_type": "code",
   "execution_count": 35,
   "id": "266146fc-0f3c-40be-aac7-89606f155809",
   "metadata": {},
   "outputs": [
    {
     "data": {
      "text/plain": [
       "array([ True,  True,  True,  True,  True,  True,  True,  True,  True,\n",
       "       False, False, False, False, False, False])"
      ]
     },
     "execution_count": 35,
     "metadata": {},
     "output_type": "execute_result"
    }
   ],
   "source": [
    "a<10"
   ]
  },
  {
   "cell_type": "code",
   "execution_count": 36,
   "id": "410b7de8-2298-4d21-b548-63591b0289db",
   "metadata": {},
   "outputs": [
    {
     "data": {
      "text/plain": [
       "array([11, 12, 13, 14, 15])"
      ]
     },
     "execution_count": 36,
     "metadata": {},
     "output_type": "execute_result"
    }
   ],
   "source": [
    "b=a>10\n",
    "a[b]"
   ]
  },
  {
   "cell_type": "code",
   "execution_count": 37,
   "id": "aa0d4ec7-85fd-418d-b9b8-e06e4e094eca",
   "metadata": {},
   "outputs": [
    {
     "data": {
      "text/plain": [
       "array([ 2,  4,  6,  8, 10, 12, 14])"
      ]
     },
     "execution_count": 37,
     "metadata": {},
     "output_type": "execute_result"
    }
   ],
   "source": [
    "a[a%2==0]"
   ]
  },
  {
   "cell_type": "code",
   "execution_count": null,
   "id": "b5014e95-6735-4a9d-a793-ee0f1381d59c",
   "metadata": {},
   "outputs": [],
   "source": [
    "# operations on array"
   ]
  },
  {
   "cell_type": "code",
   "execution_count": 43,
   "id": "5d1feeea-e933-4639-a3d7-4d59d2e4ef6d",
   "metadata": {},
   "outputs": [
    {
     "data": {
      "text/plain": [
       "[1, 2, 3, 4, 1, 2, 3, 4]"
      ]
     },
     "execution_count": 43,
     "metadata": {},
     "output_type": "execute_result"
    }
   ],
   "source": [
    "a=[1,2,3,4]\n",
    "a*2"
   ]
  },
  {
   "cell_type": "code",
   "execution_count": 44,
   "id": "75253577-dc52-4b1e-8650-26b0ff20de40",
   "metadata": {},
   "outputs": [
    {
     "data": {
      "text/plain": [
       "array([2, 4, 6, 8])"
      ]
     },
     "execution_count": 44,
     "metadata": {},
     "output_type": "execute_result"
    }
   ],
   "source": [
    "a=np.array([1,2,3,4])\n",
    "a*2"
   ]
  },
  {
   "cell_type": "code",
   "execution_count": 45,
   "id": "d87209f7-5c98-4ebb-af4e-9c3886fdd499",
   "metadata": {},
   "outputs": [
    {
     "data": {
      "text/plain": [
       "array([2, 4, 6, 8])"
      ]
     },
     "execution_count": 45,
     "metadata": {},
     "output_type": "execute_result"
    }
   ],
   "source": [
    "a=np.arange(1,5)\n",
    "a*2"
   ]
  },
  {
   "cell_type": "code",
   "execution_count": 46,
   "id": "a5ccd471-3bcc-4fa9-9e92-6c890c6bd456",
   "metadata": {},
   "outputs": [
    {
     "data": {
      "text/plain": [
       "array([3, 4, 5, 6])"
      ]
     },
     "execution_count": 46,
     "metadata": {},
     "output_type": "execute_result"
    }
   ],
   "source": [
    "a+2"
   ]
  },
  {
   "cell_type": "code",
   "execution_count": 47,
   "id": "2cad51e3-c938-46a3-a75c-95758fa3ec01",
   "metadata": {},
   "outputs": [
    {
     "data": {
      "text/plain": [
       "array([ 1,  4,  9, 16])"
      ]
     },
     "execution_count": 47,
     "metadata": {},
     "output_type": "execute_result"
    }
   ],
   "source": [
    "a**2"
   ]
  },
  {
   "cell_type": "code",
   "execution_count": 58,
   "id": "fbfd12d1-4769-46b8-ae87-72e64007f455",
   "metadata": {},
   "outputs": [
    {
     "data": {
      "text/plain": [
       "array([[1, 2],\n",
       "       [3, 4]])"
      ]
     },
     "execution_count": 58,
     "metadata": {},
     "output_type": "execute_result"
    }
   ],
   "source": [
    "s=np.array([1,2,3,4]).reshape(2,2)\n",
    "s"
   ]
  },
  {
   "cell_type": "code",
   "execution_count": 59,
   "id": "f2928a20-b7aa-4125-8482-d758c4070df0",
   "metadata": {},
   "outputs": [
    {
     "data": {
      "text/plain": [
       "array([[5, 6],\n",
       "       [7, 8]])"
      ]
     },
     "execution_count": 59,
     "metadata": {},
     "output_type": "execute_result"
    }
   ],
   "source": [
    "v=np.array([5,6,7,8]).reshape(2,2)\n",
    "v"
   ]
  },
  {
   "cell_type": "code",
   "execution_count": 60,
   "id": "5ec5d62a-2ad8-4595-bbb1-219456a906be",
   "metadata": {},
   "outputs": [
    {
     "data": {
      "text/plain": [
       "array([[ 6,  8],\n",
       "       [10, 12]])"
      ]
     },
     "execution_count": 60,
     "metadata": {},
     "output_type": "execute_result"
    }
   ],
   "source": [
    "s+v"
   ]
  },
  {
   "cell_type": "code",
   "execution_count": 61,
   "id": "c49ef0a8-e858-41b5-a613-c9962f418159",
   "metadata": {},
   "outputs": [
    {
     "data": {
      "text/plain": [
       "array([[4, 4],\n",
       "       [4, 4]])"
      ]
     },
     "execution_count": 61,
     "metadata": {},
     "output_type": "execute_result"
    }
   ],
   "source": [
    "v-s"
   ]
  },
  {
   "cell_type": "code",
   "execution_count": 62,
   "id": "161eea5e-1385-4cdc-a7ab-9f312dfbb237",
   "metadata": {},
   "outputs": [
    {
     "data": {
      "text/plain": [
       "array([[5.        , 3.        ],\n",
       "       [2.33333333, 2.        ]])"
      ]
     },
     "execution_count": 62,
     "metadata": {},
     "output_type": "execute_result"
    }
   ],
   "source": [
    "v/s"
   ]
  },
  {
   "cell_type": "code",
   "execution_count": 63,
   "id": "21c66220-8039-4b6c-a053-2140327692f5",
   "metadata": {},
   "outputs": [
    {
     "data": {
      "text/plain": [
       "array([[ 5, 12],\n",
       "       [21, 32]])"
      ]
     },
     "execution_count": 63,
     "metadata": {},
     "output_type": "execute_result"
    }
   ],
   "source": [
    "s*v"
   ]
  },
  {
   "cell_type": "code",
   "execution_count": 64,
   "id": "1dc98946-161f-4532-93e9-bf97ed7de5d0",
   "metadata": {},
   "outputs": [],
   "source": [
    "# some more important numpy functions"
   ]
  },
  {
   "cell_type": "code",
   "execution_count": 65,
   "id": "89a8ed73-6b93-41e1-b08d-114d91454b98",
   "metadata": {},
   "outputs": [
    {
     "data": {
      "text/plain": [
       "10"
      ]
     },
     "execution_count": 65,
     "metadata": {},
     "output_type": "execute_result"
    }
   ],
   "source": [
    "a=np.array([10,20,30,40,50])\n",
    "np.min(a)"
   ]
  },
  {
   "cell_type": "code",
   "execution_count": 66,
   "id": "48b2aa2a-15d8-44b1-a630-a53f36df435a",
   "metadata": {},
   "outputs": [
    {
     "data": {
      "text/plain": [
       "50"
      ]
     },
     "execution_count": 66,
     "metadata": {},
     "output_type": "execute_result"
    }
   ],
   "source": [
    "np.max(a)"
   ]
  },
  {
   "cell_type": "code",
   "execution_count": 68,
   "id": "27d1105d-e12c-429c-9d21-71d036fd7d86",
   "metadata": {},
   "outputs": [
    {
     "data": {
      "text/plain": [
       "0"
      ]
     },
     "execution_count": 68,
     "metadata": {},
     "output_type": "execute_result"
    }
   ],
   "source": [
    "np.argmin(a)"
   ]
  },
  {
   "cell_type": "code",
   "execution_count": 69,
   "id": "3210181a-c952-4c6d-a452-94e06d9f8ae3",
   "metadata": {},
   "outputs": [
    {
     "data": {
      "text/plain": [
       "4"
      ]
     },
     "execution_count": 69,
     "metadata": {},
     "output_type": "execute_result"
    }
   ],
   "source": [
    "np.argmax(a)"
   ]
  },
  {
   "cell_type": "code",
   "execution_count": 70,
   "id": "08d0db0a-fb07-4e9f-9b32-251a526d8de2",
   "metadata": {},
   "outputs": [
    {
     "data": {
      "text/plain": [
       "array([3.16227766, 4.47213595, 5.47722558, 6.32455532, 7.07106781])"
      ]
     },
     "execution_count": 70,
     "metadata": {},
     "output_type": "execute_result"
    }
   ],
   "source": [
    "np.sqrt(a)"
   ]
  },
  {
   "cell_type": "code",
   "execution_count": 71,
   "id": "365b2ed1-c38e-4d14-a200-7928ba934652",
   "metadata": {},
   "outputs": [
    {
     "data": {
      "text/plain": [
       "array([-0.54402111,  0.91294525, -0.98803162,  0.74511316, -0.26237485])"
      ]
     },
     "execution_count": 71,
     "metadata": {},
     "output_type": "execute_result"
    }
   ],
   "source": [
    "np.sin(a)"
   ]
  },
  {
   "cell_type": "code",
   "execution_count": 72,
   "id": "d07c5f12-471f-4138-aab2-6073b108d33b",
   "metadata": {},
   "outputs": [],
   "source": [
    "# linspace() ==> this function returnsvalue between a given range and with a same gap between consicutive eements."
   ]
  },
  {
   "cell_type": "code",
   "execution_count": 73,
   "id": "d240b85b-0db5-43ca-8731-46e8824620e2",
   "metadata": {},
   "outputs": [
    {
     "data": {
      "text/plain": [
       "array([1.  , 1.25, 1.5 , 1.75, 2.  ])"
      ]
     },
     "execution_count": 73,
     "metadata": {},
     "output_type": "execute_result"
    }
   ],
   "source": [
    "a=np.linspace(1,2,5)\n",
    "a"
   ]
  },
  {
   "cell_type": "code",
   "execution_count": 74,
   "id": "4215c481-0854-4cbe-82ff-d23f6be3836f",
   "metadata": {},
   "outputs": [],
   "source": [
    "#np.unique(arr,return_index=true,retuen_counts=true)"
   ]
  },
  {
   "cell_type": "code",
   "execution_count": 77,
   "id": "63747ece-a7dc-410f-87d0-644534b58941",
   "metadata": {},
   "outputs": [
    {
     "data": {
      "text/plain": [
       "(array([10, 20, 30, 40, 50]),\n",
       " array([0, 1, 2, 3, 6], dtype=int64),\n",
       " array([2, 2, 1, 1, 1], dtype=int64))"
      ]
     },
     "execution_count": 77,
     "metadata": {},
     "output_type": "execute_result"
    }
   ],
   "source": [
    "a=np.array([10,20,30,40,10,20,50])\n",
    "np.unique(a,return_index=True,return_counts=True)"
   ]
  },
  {
   "cell_type": "code",
   "execution_count": 78,
   "id": "2d0bdd07-6f82-425d-86a4-07a5c04e7c08",
   "metadata": {},
   "outputs": [],
   "source": [
    "# horizontal and vertical stacking"
   ]
  },
  {
   "cell_type": "code",
   "execution_count": 79,
   "id": "9a047f28-0db9-4016-9c05-eb736b9d6898",
   "metadata": {},
   "outputs": [
    {
     "data": {
      "text/plain": [
       "array([1, 2, 3, 4])"
      ]
     },
     "execution_count": 79,
     "metadata": {},
     "output_type": "execute_result"
    }
   ],
   "source": [
    "a=np.array([1,2,3,4])\n",
    "b=np.array([5,6,7,8])\n",
    "a"
   ]
  },
  {
   "cell_type": "code",
   "execution_count": 80,
   "id": "9a6e1900-130f-4a12-816d-c0a9d026802e",
   "metadata": {},
   "outputs": [
    {
     "data": {
      "text/plain": [
       "array([5, 6, 7, 8])"
      ]
     },
     "execution_count": 80,
     "metadata": {},
     "output_type": "execute_result"
    }
   ],
   "source": [
    "b"
   ]
  },
  {
   "cell_type": "code",
   "execution_count": 81,
   "id": "c6e5ba4a-0faa-412f-a709-d54100970277",
   "metadata": {},
   "outputs": [
    {
     "data": {
      "text/plain": [
       "array([1, 2, 3, 4, 5, 6, 7, 8])"
      ]
     },
     "execution_count": 81,
     "metadata": {},
     "output_type": "execute_result"
    }
   ],
   "source": [
    "np.hstack((a,b))"
   ]
  },
  {
   "cell_type": "code",
   "execution_count": 82,
   "id": "a715e7ce-6138-4634-bfe1-d91820a24404",
   "metadata": {},
   "outputs": [
    {
     "data": {
      "text/plain": [
       "array([[1, 2, 3, 4],\n",
       "       [5, 6, 7, 8]])"
      ]
     },
     "execution_count": 82,
     "metadata": {},
     "output_type": "execute_result"
    }
   ],
   "source": [
    "np.vstack((a,b))"
   ]
  },
  {
   "cell_type": "code",
   "execution_count": null,
   "id": "9fe53dd2-9821-4f17-ac5a-2efa976df145",
   "metadata": {},
   "outputs": [],
   "source": []
  }
 ],
 "metadata": {
  "kernelspec": {
   "display_name": "Python 3 (ipykernel)",
   "language": "python",
   "name": "python3"
  },
  "language_info": {
   "codemirror_mode": {
    "name": "ipython",
    "version": 3
   },
   "file_extension": ".py",
   "mimetype": "text/x-python",
   "name": "python",
   "nbconvert_exporter": "python",
   "pygments_lexer": "ipython3",
   "version": "3.12.3"
  }
 },
 "nbformat": 4,
 "nbformat_minor": 5
}
