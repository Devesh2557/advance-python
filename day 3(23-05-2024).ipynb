{
 "cells": [
  {
   "cell_type": "code",
   "execution_count": 2,
   "id": "d0be3b68-55a6-49f8-955c-1abe75e301a6",
   "metadata": {},
   "outputs": [],
   "source": [
    "# pandas are used to manipultate the data."
   ]
  },
  {
   "cell_type": "code",
   "execution_count": 4,
   "id": "e4cbc968-05ff-48a7-8463-14a97b92e57d",
   "metadata": {},
   "outputs": [],
   "source": [
    "# pandas ====> open source library that is used for handle data manipulatinos"
   ]
  },
  {
   "cell_type": "code",
   "execution_count": 6,
   "id": "916c3769-6e98-43b6-8971-bdc3b1da2ec5",
   "metadata": {},
   "outputs": [],
   "source": [
    "# data structure of pandas====>\n",
    "# 1. series====> it is used for one dimensional data. it shown only values of a column and it will not include column name.\n",
    "# 2. dataframe ====> it is multidimensiona; data. it shows column name with values."
   ]
  },
  {
   "cell_type": "code",
   "execution_count": 7,
   "id": "27a2c7a8-2f39-47ef-88f3-a6926d7909e6",
   "metadata": {},
   "outputs": [],
   "source": [
    "import pandas as pd"
   ]
  },
  {
   "cell_type": "code",
   "execution_count": 9,
   "id": "0db907b0-9192-4a9e-8a73-9a0fb33eb852",
   "metadata": {},
   "outputs": [
    {
     "data": {
      "text/plain": [
       "0     1\n",
       "1    34\n",
       "2    78\n",
       "3    90\n",
       "dtype: int64"
      ]
     },
     "execution_count": 9,
     "metadata": {},
     "output_type": "execute_result"
    }
   ],
   "source": [
    "a=pd.Series([1,34,78,90])\n",
    "a"
   ]
  },
  {
   "cell_type": "code",
   "execution_count": 10,
   "id": "884b3e58-e5dd-4359-aad3-2b4dc79de38e",
   "metadata": {},
   "outputs": [
    {
     "data": {
      "text/plain": [
       "pandas.core.series.Series"
      ]
     },
     "execution_count": 10,
     "metadata": {},
     "output_type": "execute_result"
    }
   ],
   "source": [
    "type(a)"
   ]
  },
  {
   "cell_type": "code",
   "execution_count": 13,
   "id": "9a24efaf-688d-4f72-9ee4-3abaa78caa96",
   "metadata": {},
   "outputs": [],
   "source": [
    "# 2. dataframes ====>"
   ]
  },
  {
   "cell_type": "code",
   "execution_count": 14,
   "id": "e01591e9-af6a-4971-aa07-2e9f75477c2a",
   "metadata": {},
   "outputs": [],
   "source": [
    "a={\n",
    "    \"Emp_ID\" : [1,2,3,4,5,6,7,8],\n",
    "    \"Name\" : ['Sam' , 'Rahul' , 'Gorav' , 'Aniket', 'Anjali', 'Ria', 'Muskan','Pooja'],\n",
    "    \"Department\" : ['IT', 'HR','Sales','IT','IT','Sales','IT','HR'],\n",
    "    \"Salary\" : [25000,27000,23000,30000,32000,35000,28000,25000],\n",
    "    \"Workung_hours\" :[8,9,8,9,7,6,7,8]\n",
    "}"
   ]
  },
  {
   "cell_type": "code",
   "execution_count": 15,
   "id": "3cb36853-fe7b-49d3-aac2-5e1ff454a9ba",
   "metadata": {},
   "outputs": [
    {
     "data": {
      "text/plain": [
       "dict"
      ]
     },
     "execution_count": 15,
     "metadata": {},
     "output_type": "execute_result"
    }
   ],
   "source": [
    "type(a)"
   ]
  },
  {
   "cell_type": "code",
   "execution_count": 16,
   "id": "2d60cc58-be16-4248-9809-5fcba785a8da",
   "metadata": {},
   "outputs": [
    {
     "data": {
      "text/plain": [
       "{'Emp_ID': [1, 2, 3, 4, 5, 6, 7, 8],\n",
       " 'Name': ['Sam',\n",
       "  'Rahul',\n",
       "  'Gorav',\n",
       "  'Aniket',\n",
       "  'Anjali',\n",
       "  'Ria',\n",
       "  'Muskan',\n",
       "  'Pooja'],\n",
       " 'Department': ['IT', 'HR', 'Sales', 'IT', 'IT', 'Sales', 'IT', 'HR'],\n",
       " 'Salary': [25000, 27000, 23000, 30000, 32000, 35000, 28000, 25000],\n",
       " 'Workung_hours': [8, 9, 8, 9, 7, 6, 7, 8]}"
      ]
     },
     "execution_count": 16,
     "metadata": {},
     "output_type": "execute_result"
    }
   ],
   "source": [
    "a"
   ]
  },
  {
   "cell_type": "code",
   "execution_count": 18,
   "id": "343ac175-4348-4b86-8b65-ede3d78bb703",
   "metadata": {},
   "outputs": [
    {
     "data": {
      "text/html": [
       "<div>\n",
       "<style scoped>\n",
       "    .dataframe tbody tr th:only-of-type {\n",
       "        vertical-align: middle;\n",
       "    }\n",
       "\n",
       "    .dataframe tbody tr th {\n",
       "        vertical-align: top;\n",
       "    }\n",
       "\n",
       "    .dataframe thead th {\n",
       "        text-align: right;\n",
       "    }\n",
       "</style>\n",
       "<table border=\"1\" class=\"dataframe\">\n",
       "  <thead>\n",
       "    <tr style=\"text-align: right;\">\n",
       "      <th></th>\n",
       "      <th>Emp_ID</th>\n",
       "      <th>Name</th>\n",
       "      <th>Department</th>\n",
       "      <th>Salary</th>\n",
       "      <th>Workung_hours</th>\n",
       "    </tr>\n",
       "  </thead>\n",
       "  <tbody>\n",
       "    <tr>\n",
       "      <th>0</th>\n",
       "      <td>1</td>\n",
       "      <td>Sam</td>\n",
       "      <td>IT</td>\n",
       "      <td>25000</td>\n",
       "      <td>8</td>\n",
       "    </tr>\n",
       "    <tr>\n",
       "      <th>1</th>\n",
       "      <td>2</td>\n",
       "      <td>Rahul</td>\n",
       "      <td>HR</td>\n",
       "      <td>27000</td>\n",
       "      <td>9</td>\n",
       "    </tr>\n",
       "    <tr>\n",
       "      <th>2</th>\n",
       "      <td>3</td>\n",
       "      <td>Gorav</td>\n",
       "      <td>Sales</td>\n",
       "      <td>23000</td>\n",
       "      <td>8</td>\n",
       "    </tr>\n",
       "    <tr>\n",
       "      <th>3</th>\n",
       "      <td>4</td>\n",
       "      <td>Aniket</td>\n",
       "      <td>IT</td>\n",
       "      <td>30000</td>\n",
       "      <td>9</td>\n",
       "    </tr>\n",
       "    <tr>\n",
       "      <th>4</th>\n",
       "      <td>5</td>\n",
       "      <td>Anjali</td>\n",
       "      <td>IT</td>\n",
       "      <td>32000</td>\n",
       "      <td>7</td>\n",
       "    </tr>\n",
       "    <tr>\n",
       "      <th>5</th>\n",
       "      <td>6</td>\n",
       "      <td>Ria</td>\n",
       "      <td>Sales</td>\n",
       "      <td>35000</td>\n",
       "      <td>6</td>\n",
       "    </tr>\n",
       "    <tr>\n",
       "      <th>6</th>\n",
       "      <td>7</td>\n",
       "      <td>Muskan</td>\n",
       "      <td>IT</td>\n",
       "      <td>28000</td>\n",
       "      <td>7</td>\n",
       "    </tr>\n",
       "    <tr>\n",
       "      <th>7</th>\n",
       "      <td>8</td>\n",
       "      <td>Pooja</td>\n",
       "      <td>HR</td>\n",
       "      <td>25000</td>\n",
       "      <td>8</td>\n",
       "    </tr>\n",
       "  </tbody>\n",
       "</table>\n",
       "</div>"
      ],
      "text/plain": [
       "   Emp_ID    Name Department  Salary  Workung_hours\n",
       "0       1     Sam         IT   25000              8\n",
       "1       2   Rahul         HR   27000              9\n",
       "2       3   Gorav      Sales   23000              8\n",
       "3       4  Aniket         IT   30000              9\n",
       "4       5  Anjali         IT   32000              7\n",
       "5       6     Ria      Sales   35000              6\n",
       "6       7  Muskan         IT   28000              7\n",
       "7       8   Pooja         HR   25000              8"
      ]
     },
     "execution_count": 18,
     "metadata": {},
     "output_type": "execute_result"
    }
   ],
   "source": [
    "df=pd.DataFrame(a)\n",
    "df"
   ]
  },
  {
   "cell_type": "code",
   "execution_count": 19,
   "id": "bedbdb5c-3a5b-47df-bd40-8b50af694fa8",
   "metadata": {},
   "outputs": [],
   "source": [
    "# how to check top 5 data from a dataframe?"
   ]
  },
  {
   "cell_type": "code",
   "execution_count": 21,
   "id": "1771c0df-cc62-4709-8014-f0e552d0e280",
   "metadata": {},
   "outputs": [
    {
     "data": {
      "text/html": [
       "<div>\n",
       "<style scoped>\n",
       "    .dataframe tbody tr th:only-of-type {\n",
       "        vertical-align: middle;\n",
       "    }\n",
       "\n",
       "    .dataframe tbody tr th {\n",
       "        vertical-align: top;\n",
       "    }\n",
       "\n",
       "    .dataframe thead th {\n",
       "        text-align: right;\n",
       "    }\n",
       "</style>\n",
       "<table border=\"1\" class=\"dataframe\">\n",
       "  <thead>\n",
       "    <tr style=\"text-align: right;\">\n",
       "      <th></th>\n",
       "      <th>Emp_ID</th>\n",
       "      <th>Name</th>\n",
       "      <th>Department</th>\n",
       "      <th>Salary</th>\n",
       "      <th>Workung_hours</th>\n",
       "    </tr>\n",
       "  </thead>\n",
       "  <tbody>\n",
       "    <tr>\n",
       "      <th>0</th>\n",
       "      <td>1</td>\n",
       "      <td>Sam</td>\n",
       "      <td>IT</td>\n",
       "      <td>25000</td>\n",
       "      <td>8</td>\n",
       "    </tr>\n",
       "    <tr>\n",
       "      <th>1</th>\n",
       "      <td>2</td>\n",
       "      <td>Rahul</td>\n",
       "      <td>HR</td>\n",
       "      <td>27000</td>\n",
       "      <td>9</td>\n",
       "    </tr>\n",
       "    <tr>\n",
       "      <th>2</th>\n",
       "      <td>3</td>\n",
       "      <td>Gorav</td>\n",
       "      <td>Sales</td>\n",
       "      <td>23000</td>\n",
       "      <td>8</td>\n",
       "    </tr>\n",
       "    <tr>\n",
       "      <th>3</th>\n",
       "      <td>4</td>\n",
       "      <td>Aniket</td>\n",
       "      <td>IT</td>\n",
       "      <td>30000</td>\n",
       "      <td>9</td>\n",
       "    </tr>\n",
       "    <tr>\n",
       "      <th>4</th>\n",
       "      <td>5</td>\n",
       "      <td>Anjali</td>\n",
       "      <td>IT</td>\n",
       "      <td>32000</td>\n",
       "      <td>7</td>\n",
       "    </tr>\n",
       "  </tbody>\n",
       "</table>\n",
       "</div>"
      ],
      "text/plain": [
       "   Emp_ID    Name Department  Salary  Workung_hours\n",
       "0       1     Sam         IT   25000              8\n",
       "1       2   Rahul         HR   27000              9\n",
       "2       3   Gorav      Sales   23000              8\n",
       "3       4  Aniket         IT   30000              9\n",
       "4       5  Anjali         IT   32000              7"
      ]
     },
     "execution_count": 21,
     "metadata": {},
     "output_type": "execute_result"
    }
   ],
   "source": [
    "df.head() # it gives by default top 5 values"
   ]
  },
  {
   "cell_type": "code",
   "execution_count": 22,
   "id": "b987858f-e552-4456-a623-ca46fa7a74bb",
   "metadata": {},
   "outputs": [
    {
     "data": {
      "text/html": [
       "<div>\n",
       "<style scoped>\n",
       "    .dataframe tbody tr th:only-of-type {\n",
       "        vertical-align: middle;\n",
       "    }\n",
       "\n",
       "    .dataframe tbody tr th {\n",
       "        vertical-align: top;\n",
       "    }\n",
       "\n",
       "    .dataframe thead th {\n",
       "        text-align: right;\n",
       "    }\n",
       "</style>\n",
       "<table border=\"1\" class=\"dataframe\">\n",
       "  <thead>\n",
       "    <tr style=\"text-align: right;\">\n",
       "      <th></th>\n",
       "      <th>Emp_ID</th>\n",
       "      <th>Name</th>\n",
       "      <th>Department</th>\n",
       "      <th>Salary</th>\n",
       "      <th>Workung_hours</th>\n",
       "    </tr>\n",
       "  </thead>\n",
       "  <tbody>\n",
       "    <tr>\n",
       "      <th>0</th>\n",
       "      <td>1</td>\n",
       "      <td>Sam</td>\n",
       "      <td>IT</td>\n",
       "      <td>25000</td>\n",
       "      <td>8</td>\n",
       "    </tr>\n",
       "    <tr>\n",
       "      <th>1</th>\n",
       "      <td>2</td>\n",
       "      <td>Rahul</td>\n",
       "      <td>HR</td>\n",
       "      <td>27000</td>\n",
       "      <td>9</td>\n",
       "    </tr>\n",
       "  </tbody>\n",
       "</table>\n",
       "</div>"
      ],
      "text/plain": [
       "   Emp_ID   Name Department  Salary  Workung_hours\n",
       "0       1    Sam         IT   25000              8\n",
       "1       2  Rahul         HR   27000              9"
      ]
     },
     "execution_count": 22,
     "metadata": {},
     "output_type": "execute_result"
    }
   ],
   "source": [
    "df.head(2)"
   ]
  },
  {
   "cell_type": "code",
   "execution_count": 23,
   "id": "46361577-3f90-4409-8d52-cea0218bfe0f",
   "metadata": {},
   "outputs": [],
   "source": [
    "# how to check bottom data"
   ]
  },
  {
   "cell_type": "code",
   "execution_count": 27,
   "id": "d4bfa590-0502-423e-8193-d7ade24a13b3",
   "metadata": {},
   "outputs": [
    {
     "data": {
      "text/html": [
       "<div>\n",
       "<style scoped>\n",
       "    .dataframe tbody tr th:only-of-type {\n",
       "        vertical-align: middle;\n",
       "    }\n",
       "\n",
       "    .dataframe tbody tr th {\n",
       "        vertical-align: top;\n",
       "    }\n",
       "\n",
       "    .dataframe thead th {\n",
       "        text-align: right;\n",
       "    }\n",
       "</style>\n",
       "<table border=\"1\" class=\"dataframe\">\n",
       "  <thead>\n",
       "    <tr style=\"text-align: right;\">\n",
       "      <th></th>\n",
       "      <th>Emp_ID</th>\n",
       "      <th>Name</th>\n",
       "      <th>Department</th>\n",
       "      <th>Salary</th>\n",
       "      <th>Workung_hours</th>\n",
       "    </tr>\n",
       "  </thead>\n",
       "  <tbody>\n",
       "    <tr>\n",
       "      <th>3</th>\n",
       "      <td>4</td>\n",
       "      <td>Aniket</td>\n",
       "      <td>IT</td>\n",
       "      <td>30000</td>\n",
       "      <td>9</td>\n",
       "    </tr>\n",
       "    <tr>\n",
       "      <th>4</th>\n",
       "      <td>5</td>\n",
       "      <td>Anjali</td>\n",
       "      <td>IT</td>\n",
       "      <td>32000</td>\n",
       "      <td>7</td>\n",
       "    </tr>\n",
       "    <tr>\n",
       "      <th>5</th>\n",
       "      <td>6</td>\n",
       "      <td>Ria</td>\n",
       "      <td>Sales</td>\n",
       "      <td>35000</td>\n",
       "      <td>6</td>\n",
       "    </tr>\n",
       "    <tr>\n",
       "      <th>6</th>\n",
       "      <td>7</td>\n",
       "      <td>Muskan</td>\n",
       "      <td>IT</td>\n",
       "      <td>28000</td>\n",
       "      <td>7</td>\n",
       "    </tr>\n",
       "    <tr>\n",
       "      <th>7</th>\n",
       "      <td>8</td>\n",
       "      <td>Pooja</td>\n",
       "      <td>HR</td>\n",
       "      <td>25000</td>\n",
       "      <td>8</td>\n",
       "    </tr>\n",
       "  </tbody>\n",
       "</table>\n",
       "</div>"
      ],
      "text/plain": [
       "   Emp_ID    Name Department  Salary  Workung_hours\n",
       "3       4  Aniket         IT   30000              9\n",
       "4       5  Anjali         IT   32000              7\n",
       "5       6     Ria      Sales   35000              6\n",
       "6       7  Muskan         IT   28000              7\n",
       "7       8   Pooja         HR   25000              8"
      ]
     },
     "execution_count": 27,
     "metadata": {},
     "output_type": "execute_result"
    }
   ],
   "source": [
    "df.tail()"
   ]
  },
  {
   "cell_type": "code",
   "execution_count": 28,
   "id": "ad95ffce-78bd-459f-805b-76479a89d9e3",
   "metadata": {},
   "outputs": [
    {
     "data": {
      "text/html": [
       "<div>\n",
       "<style scoped>\n",
       "    .dataframe tbody tr th:only-of-type {\n",
       "        vertical-align: middle;\n",
       "    }\n",
       "\n",
       "    .dataframe tbody tr th {\n",
       "        vertical-align: top;\n",
       "    }\n",
       "\n",
       "    .dataframe thead th {\n",
       "        text-align: right;\n",
       "    }\n",
       "</style>\n",
       "<table border=\"1\" class=\"dataframe\">\n",
       "  <thead>\n",
       "    <tr style=\"text-align: right;\">\n",
       "      <th></th>\n",
       "      <th>Emp_ID</th>\n",
       "      <th>Name</th>\n",
       "      <th>Department</th>\n",
       "      <th>Salary</th>\n",
       "      <th>Workung_hours</th>\n",
       "    </tr>\n",
       "  </thead>\n",
       "  <tbody>\n",
       "    <tr>\n",
       "      <th>6</th>\n",
       "      <td>7</td>\n",
       "      <td>Muskan</td>\n",
       "      <td>IT</td>\n",
       "      <td>28000</td>\n",
       "      <td>7</td>\n",
       "    </tr>\n",
       "    <tr>\n",
       "      <th>7</th>\n",
       "      <td>8</td>\n",
       "      <td>Pooja</td>\n",
       "      <td>HR</td>\n",
       "      <td>25000</td>\n",
       "      <td>8</td>\n",
       "    </tr>\n",
       "  </tbody>\n",
       "</table>\n",
       "</div>"
      ],
      "text/plain": [
       "   Emp_ID    Name Department  Salary  Workung_hours\n",
       "6       7  Muskan         IT   28000              7\n",
       "7       8   Pooja         HR   25000              8"
      ]
     },
     "execution_count": 28,
     "metadata": {},
     "output_type": "execute_result"
    }
   ],
   "source": [
    "df.tail(2)"
   ]
  },
  {
   "cell_type": "code",
   "execution_count": 29,
   "id": "025bf389-ef9c-4913-b513-94e7847f3bb9",
   "metadata": {},
   "outputs": [],
   "source": [
    "# how can we check random indexed data?"
   ]
  },
  {
   "cell_type": "code",
   "execution_count": 31,
   "id": "a6698fc7-432f-44b4-97b2-16a65a934b78",
   "metadata": {},
   "outputs": [
    {
     "data": {
      "text/html": [
       "<div>\n",
       "<style scoped>\n",
       "    .dataframe tbody tr th:only-of-type {\n",
       "        vertical-align: middle;\n",
       "    }\n",
       "\n",
       "    .dataframe tbody tr th {\n",
       "        vertical-align: top;\n",
       "    }\n",
       "\n",
       "    .dataframe thead th {\n",
       "        text-align: right;\n",
       "    }\n",
       "</style>\n",
       "<table border=\"1\" class=\"dataframe\">\n",
       "  <thead>\n",
       "    <tr style=\"text-align: right;\">\n",
       "      <th></th>\n",
       "      <th>Emp_ID</th>\n",
       "      <th>Name</th>\n",
       "      <th>Department</th>\n",
       "      <th>Salary</th>\n",
       "      <th>Workung_hours</th>\n",
       "    </tr>\n",
       "  </thead>\n",
       "  <tbody>\n",
       "    <tr>\n",
       "      <th>7</th>\n",
       "      <td>8</td>\n",
       "      <td>Pooja</td>\n",
       "      <td>HR</td>\n",
       "      <td>25000</td>\n",
       "      <td>8</td>\n",
       "    </tr>\n",
       "    <tr>\n",
       "      <th>5</th>\n",
       "      <td>6</td>\n",
       "      <td>Ria</td>\n",
       "      <td>Sales</td>\n",
       "      <td>35000</td>\n",
       "      <td>6</td>\n",
       "    </tr>\n",
       "    <tr>\n",
       "      <th>3</th>\n",
       "      <td>4</td>\n",
       "      <td>Aniket</td>\n",
       "      <td>IT</td>\n",
       "      <td>30000</td>\n",
       "      <td>9</td>\n",
       "    </tr>\n",
       "  </tbody>\n",
       "</table>\n",
       "</div>"
      ],
      "text/plain": [
       "   Emp_ID    Name Department  Salary  Workung_hours\n",
       "7       8   Pooja         HR   25000              8\n",
       "5       6     Ria      Sales   35000              6\n",
       "3       4  Aniket         IT   30000              9"
      ]
     },
     "execution_count": 31,
     "metadata": {},
     "output_type": "execute_result"
    }
   ],
   "source": [
    "df.sample(3)"
   ]
  },
  {
   "cell_type": "code",
   "execution_count": 32,
   "id": "f02857b8-58ff-455f-89fa-5f67dcd23128",
   "metadata": {},
   "outputs": [],
   "source": [
    "# how to sexport our data?"
   ]
  },
  {
   "cell_type": "code",
   "execution_count": 33,
   "id": "f00a3e37-0301-4551-ae64-9699997b8ef9",
   "metadata": {},
   "outputs": [],
   "source": [
    "df.to_csv(\"C:\\\\Users\\\\deves\\\\Desktop\\\\advance\\\\Emp_Info.csv\")"
   ]
  },
  {
   "cell_type": "code",
   "execution_count": 34,
   "id": "1dc513b8-44f6-4ce5-a638-0538fc92090a",
   "metadata": {},
   "outputs": [],
   "source": [
    "# step-1 (def.to_csv(\" \"))\n",
    "\n",
    "# st Create a new folder ==> copy location ==> paste it into step-1\n",
    "# df.to_csv(\"folder_locatio\\\\filename.csv\")"
   ]
  },
  {
   "cell_type": "code",
   "execution_count": 35,
   "id": "9c291da9-609b-4278-9382-ec240909ac70",
   "metadata": {},
   "outputs": [],
   "source": [
    "# instant data scrapper"
   ]
  },
  {
   "cell_type": "code",
   "execution_count": null,
   "id": "6801b838-8035-4285-a9bd-69dc986469f3",
   "metadata": {},
   "outputs": [],
   "source": []
  }
 ],
 "metadata": {
  "kernelspec": {
   "display_name": "Python 3 (ipykernel)",
   "language": "python",
   "name": "python3"
  },
  "language_info": {
   "codemirror_mode": {
    "name": "ipython",
    "version": 3
   },
   "file_extension": ".py",
   "mimetype": "text/x-python",
   "name": "python",
   "nbconvert_exporter": "python",
   "pygments_lexer": "ipython3",
   "version": "3.12.3"
  }
 },
 "nbformat": 4,
 "nbformat_minor": 5
}
