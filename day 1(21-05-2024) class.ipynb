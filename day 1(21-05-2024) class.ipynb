{
 "cells": [
  {
   "cell_type": "code",
   "execution_count": 1,
   "id": "dae91c25-0cf3-4350-9acc-3b33799d0fab",
   "metadata": {},
   "outputs": [],
   "source": [
    "# how to create a user define array"
   ]
  },
  {
   "cell_type": "code",
   "execution_count": 4,
   "id": "b03d351f-198f-4a33-b8b2-76aa339c8975",
   "metadata": {},
   "outputs": [],
   "source": [
    "import numpy"
   ]
  },
  {
   "cell_type": "code",
   "execution_count": 6,
   "id": "394b5f52-6358-4771-bb0e-942fe3a849af",
   "metadata": {},
   "outputs": [],
   "source": [
    "import numpy as np"
   ]
  },
  {
   "cell_type": "code",
   "execution_count": 10,
   "id": "69df76e9-9d7e-4256-9ab3-846bc54cd36a",
   "metadata": {},
   "outputs": [
    {
     "name": "stdin",
     "output_type": "stream",
     "text": [
      "Enter size: 3\n",
      "Enter item: sam\n",
      "Enter item: 45\n",
      "Enter item: raj\n"
     ]
    },
    {
     "data": {
      "text/plain": [
       "array(['sam', '45', 'raj'], dtype='<U3')"
      ]
     },
     "execution_count": 10,
     "metadata": {},
     "output_type": "execute_result"
    }
   ],
   "source": [
    "a=[]\n",
    "size=int(input(\"Enter size:\"))\n",
    "for i in range(size):\n",
    "    val=(input(\"Enter item:\"))\n",
    "    a.append(val)\n",
    "b=np.array(a)\n",
    "b"
   ]
  },
  {
   "cell_type": "code",
   "execution_count": 11,
   "id": "95eefcb7-698a-4f06-909f-2416ba129376",
   "metadata": {},
   "outputs": [
    {
     "name": "stdin",
     "output_type": "stream",
     "text": [
      "Enter size: 5\n",
      "Enter item: 6\n",
      "Enter item: 8\n",
      "Enter item: 9\n",
      "Enter item: 4\n",
      "Enter item: 5\n"
     ]
    },
    {
     "data": {
      "text/plain": [
       "array([6, 8, 9, 4, 5])"
      ]
     },
     "execution_count": 11,
     "metadata": {},
     "output_type": "execute_result"
    }
   ],
   "source": [
    "a=[]\n",
    "size=int(input(\"Enter size:\"))\n",
    "for i in range(size):\n",
    "    val=int(input(\"Enter item:\"))\n",
    "    a.append(val)\n",
    "b=np.array(a)\n",
    "b"
   ]
  },
  {
   "cell_type": "code",
   "execution_count": 12,
   "id": "6c78e471-cfba-4fe1-934c-5033c7deda33",
   "metadata": {},
   "outputs": [],
   "source": [
    "#how can we caheck shape and of an array\n"
   ]
  },
  {
   "cell_type": "code",
   "execution_count": 13,
   "id": "3ffa33a8-aa08-47be-8ab3-899a37db6c2a",
   "metadata": {},
   "outputs": [],
   "source": [
    "a=np.array([1,34,89,9900])"
   ]
  },
  {
   "cell_type": "code",
   "execution_count": 14,
   "id": "6dd95e08-5125-4068-bd20-c31130f038b2",
   "metadata": {},
   "outputs": [
    {
     "data": {
      "text/plain": [
       "array([   1,   34,   89, 9900])"
      ]
     },
     "execution_count": 14,
     "metadata": {},
     "output_type": "execute_result"
    }
   ],
   "source": [
    "a"
   ]
  },
  {
   "cell_type": "code",
   "execution_count": 15,
   "id": "32f4276f-6d5f-4274-85a7-6c01ce88dcbe",
   "metadata": {},
   "outputs": [
    {
     "name": "stdout",
     "output_type": "stream",
     "text": [
      "Total shape= (4,)\n",
      "Total element= 4\n"
     ]
    }
   ],
   "source": [
    "print(\"Total shape=\",a.shape)\n",
    "print(\"Total element=\",a.size)"
   ]
  },
  {
   "cell_type": "code",
   "execution_count": 16,
   "id": "f4824a55-e93d-4bab-9e47-e02e9c4f7d80",
   "metadata": {},
   "outputs": [
    {
     "data": {
      "text/plain": [
       "array([[1, 2, 3],\n",
       "       [4, 5, 6],\n",
       "       [7, 8, 9]])"
      ]
     },
     "execution_count": 16,
     "metadata": {},
     "output_type": "execute_result"
    }
   ],
   "source": [
    "a=[[1,2,3] ,[4,5,6], [7,8,9]]\n",
    "b=np.array(a)\n",
    "b"
   ]
  },
  {
   "cell_type": "code",
   "execution_count": 19,
   "id": "b716199f-c8bd-4eee-8526-0c8db3ea7c35",
   "metadata": {},
   "outputs": [],
   "source": [
    "#row_1=[1,2,3]\n",
    "#row_2=[4,5,6]\n",
    "#row_3=[7,8,9]\n",
    "\n",
    "#col_1=[1,4,7]\n",
    "#col_2=[2,5,8]\n",
    "#col_3=[3,6,9]"
   ]
  },
  {
   "cell_type": "code",
   "execution_count": 20,
   "id": "8da6aa75-a0a6-430a-b318-8a3671b58620",
   "metadata": {},
   "outputs": [
    {
     "name": "stdout",
     "output_type": "stream",
     "text": [
      "Total shape= (3, 3)\n",
      "Total element= 9\n"
     ]
    }
   ],
   "source": [
    "print(\"Total shape=\",b.shape)\n",
    "print(\"Total element=\",b.size)"
   ]
  },
  {
   "cell_type": "code",
   "execution_count": 21,
   "id": "c4c8a47e-7c0c-40e0-bf12-f08e617d5757",
   "metadata": {},
   "outputs": [],
   "source": [
    "# images====> pixels(0-255) ====> opx black , 255px white ====> Normalize(0-1)px\n",
    "\n",
    "# Intially weights ====? 0 , 1\n",
    "\n",
    "# optimization ====> 0,1\n",
    "\n",
    "# matrix ====> n(rows) = n(columns)\n",
    "\n",
    "# symmatric matrix ====> n(rows) = n(columns)\n",
    "\n",
    "# Asymtaarix matrix ====> n(rows) !=n(columns)"
   ]
  },
  {
   "cell_type": "code",
   "execution_count": 25,
   "id": "8ec28f5a-f357-4d24-b2c4-b31046a59072",
   "metadata": {},
   "outputs": [],
   "source": [
    "#predefine functions\n",
    "#    (1) zeros() ====> it will create an array in which all the elements are 0"
   ]
  },
  {
   "cell_type": "code",
   "execution_count": 26,
   "id": "71dc4b70-45b3-451b-8041-c9b9c6d646b0",
   "metadata": {},
   "outputs": [
    {
     "data": {
      "text/plain": [
       "array([0., 0., 0., 0.])"
      ]
     },
     "execution_count": 26,
     "metadata": {},
     "output_type": "execute_result"
    }
   ],
   "source": [
    "a=np.zeros(4)\n",
    "a"
   ]
  },
  {
   "cell_type": "code",
   "execution_count": 27,
   "id": "15a1c33c-9c23-474e-9ea8-caa2a2a44b66",
   "metadata": {},
   "outputs": [
    {
     "data": {
      "text/plain": [
       "array([[0., 0., 0.],\n",
       "       [0., 0., 0.]])"
      ]
     },
     "execution_count": 27,
     "metadata": {},
     "output_type": "execute_result"
    }
   ],
   "source": [
    "a=np.zeros((2,3))\n",
    "a"
   ]
  },
  {
   "cell_type": "code",
   "execution_count": 28,
   "id": "e3e2a2fb-801f-490c-b440-1c7066426825",
   "metadata": {},
   "outputs": [],
   "source": [
    "#  (2) ones() ====> it will create an array in which all the elements are 1"
   ]
  },
  {
   "cell_type": "code",
   "execution_count": 31,
   "id": "c689676d-f17c-487d-99df-11461bdf00bb",
   "metadata": {},
   "outputs": [
    {
     "data": {
      "text/plain": [
       "array([1., 1., 1., 1.])"
      ]
     },
     "execution_count": 31,
     "metadata": {},
     "output_type": "execute_result"
    }
   ],
   "source": [
    "a=np.ones(4)\n",
    "a"
   ]
  },
  {
   "cell_type": "code",
   "execution_count": 32,
   "id": "621da580-ee88-4bf4-a5c1-1717115d0a14",
   "metadata": {},
   "outputs": [
    {
     "data": {
      "text/plain": [
       "array([[1., 1., 1.],\n",
       "       [1., 1., 1.]])"
      ]
     },
     "execution_count": 32,
     "metadata": {},
     "output_type": "execute_result"
    }
   ],
   "source": [
    "a=np.ones((2,3))\n",
    "a"
   ]
  },
  {
   "cell_type": "code",
   "execution_count": 33,
   "id": "cbdcf243-f8d2-4c58-8ed4-18b8fc9d81b7",
   "metadata": {},
   "outputs": [
    {
     "data": {
      "text/plain": [
       "numpy.ndarray"
      ]
     },
     "execution_count": 33,
     "metadata": {},
     "output_type": "execute_result"
    }
   ],
   "source": [
    "type(a)"
   ]
  },
  {
   "cell_type": "code",
   "execution_count": 34,
   "id": "0bda7f02-d114-4c77-9b61-ffcfecab196d",
   "metadata": {},
   "outputs": [
    {
     "data": {
      "text/plain": [
       "(2, 3)"
      ]
     },
     "execution_count": 34,
     "metadata": {},
     "output_type": "execute_result"
    }
   ],
   "source": [
    "a.shape"
   ]
  },
  {
   "cell_type": "code",
   "execution_count": 35,
   "id": "7d1bcab3-ac9a-4b1d-a07d-347653757dbb",
   "metadata": {},
   "outputs": [
    {
     "data": {
      "text/plain": [
       "6"
      ]
     },
     "execution_count": 35,
     "metadata": {},
     "output_type": "execute_result"
    }
   ],
   "source": [
    "a.size"
   ]
  },
  {
   "cell_type": "code",
   "execution_count": 36,
   "id": "5fc75f08-6c09-4a93-98d3-315bb0776b30",
   "metadata": {},
   "outputs": [],
   "source": [
    "# (3). eye() ====> in this function diagnolpostional are 1 and rest all are zero."
   ]
  },
  {
   "cell_type": "code",
   "execution_count": 37,
   "id": "46485684-cfa7-4955-aa4a-5db9db62c11a",
   "metadata": {},
   "outputs": [
    {
     "data": {
      "text/plain": [
       "array([[1., 0., 0., 0.],\n",
       "       [0., 1., 0., 0.],\n",
       "       [0., 0., 1., 0.],\n",
       "       [0., 0., 0., 1.]])"
      ]
     },
     "execution_count": 37,
     "metadata": {},
     "output_type": "execute_result"
    }
   ],
   "source": [
    "a=np.eye(4) # symmetric matrix\n",
    "a"
   ]
  },
  {
   "cell_type": "code",
   "execution_count": 39,
   "id": "06ca4c36-2d5a-4c90-b753-716b106c5b9c",
   "metadata": {},
   "outputs": [
    {
     "data": {
      "text/plain": [
       "array([[1., 0., 0., 0.],\n",
       "       [0., 1., 0., 0.],\n",
       "       [0., 0., 1., 0.]])"
      ]
     },
     "execution_count": 39,
     "metadata": {},
     "output_type": "execute_result"
    }
   ],
   "source": [
    "a=np.eye(3,4) # asymatric matrix\n",
    "a"
   ]
  },
  {
   "cell_type": "code",
   "execution_count": null,
   "id": "1ef71718-5805-4cf3-ab12-3c8672653574",
   "metadata": {},
   "outputs": [],
   "source": []
  }
 ],
 "metadata": {
  "kernelspec": {
   "display_name": "Python 3 (ipykernel)",
   "language": "python",
   "name": "python3"
  },
  "language_info": {
   "codemirror_mode": {
    "name": "ipython",
    "version": 3
   },
   "file_extension": ".py",
   "mimetype": "text/x-python",
   "name": "python",
   "nbconvert_exporter": "python",
   "pygments_lexer": "ipython3",
   "version": "3.12.3"
  }
 },
 "nbformat": 4,
 "nbformat_minor": 5
}
