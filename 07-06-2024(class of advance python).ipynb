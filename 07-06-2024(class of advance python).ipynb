{
 "cells": [
  {
   "cell_type": "code",
   "execution_count": 20,
   "id": "4f175648-82df-4b3b-8967-8c9f69b63ee4",
   "metadata": {},
   "outputs": [],
   "source": [
    "# Population ====> All the dataset  Ex. Country\n",
    "# Sample ====> Sub data of a dataset Ex. City\n",
    "# Noraml Distribution ====> from central tendancy , we have equal data from lest and right side.\n",
    "# Central Tendancy ====> mean, median, mode\n",
    "# mean = sum of total elements / frequency (count) of elements\n",
    "a = 1,2,3,4,5\n",
    "# mean = (1+2+3+4+5)/5 = 15/5 = 3\n",
    "\n",
    "#median = sort ===> even = n/2 odd n+1/2\n",
    "\n",
    "a = 1,4,2,3,5\n",
    "\n",
    "#median = 1,2,3,4,5\n",
    "\n",
    "# odd = 5+1/2 6/2 = 3 rd number ===> median = 3\n",
    "\n",
    "# mode ==> most frequent values\n",
    "\n",
    "a = 1,2,2,3,2,5\n",
    "# mode = 2\n",
    "\n",
    "# standard deviation ===> central tendancy ==> gap of next value.\n",
    "\n",
    "# Normal distributed ===> mean = 0 std = 1"
   ]
  },
  {
   "cell_type": "code",
   "execution_count": 21,
   "id": "3abaebbf-9c53-4ee9-a975-d82b36488d2f",
   "metadata": {},
   "outputs": [],
   "source": [
    "# Machine Learning Workflow\n",
    "\n",
    "# Data(Gather) ==> Data Preprcessing(Normal Distribution ==>\n",
    "# ML Algorithms ==> Prediction ==>Performance Evaluation"
   ]
  },
  {
   "cell_type": "markdown",
   "id": "b3d7afda-415a-43a3-8800-7aea4c8c4c24",
   "metadata": {},
   "source": [
    "### Data Preprocessing ==>\n",
    "### (1). Standardization ==> mean = 0, standard deviation=1"
   ]
  },
  {
   "cell_type": "code",
   "execution_count": 22,
   "id": "9468f71f-b34a-4eac-8ff8-09f13cec3f95",
   "metadata": {},
   "outputs": [],
   "source": [
    "# data ==> Independent data(x) , Dependent data(y)\n",
    "# (x) ==> X.train , X_test\n",
    "# (y) ==> y_train ,y_test"
   ]
  },
  {
   "cell_type": "code",
   "execution_count": 23,
   "id": "0ede75e5-c72e-4324-95ac-e30e130dc965",
   "metadata": {},
   "outputs": [],
   "source": [
    "#machine(training data) ==> Prediction (Testing data)"
   ]
  },
  {
   "cell_type": "code",
   "execution_count": 24,
   "id": "704e0915-3d7b-4c11-ab0a-3987f26fcc15",
   "metadata": {},
   "outputs": [],
   "source": [
    "import numpy as np\n",
    "import pandas as pd"
   ]
  },
  {
   "cell_type": "code",
   "execution_count": 25,
   "id": "84c8b31c-acdd-44c2-a4a2-3e680fa5c0b8",
   "metadata": {},
   "outputs": [],
   "source": [
    "df=pd.read_csv(\"C:\\\\Users\\\\deves\\\\Desktop\\\\placement.csv\")"
   ]
  },
  {
   "cell_type": "code",
   "execution_count": 26,
   "id": "9e05f1ae-d252-47db-9344-90b40bdc4dd3",
   "metadata": {},
   "outputs": [
    {
     "data": {
      "text/html": [
       "<div>\n",
       "<style scoped>\n",
       "    .dataframe tbody tr th:only-of-type {\n",
       "        vertical-align: middle;\n",
       "    }\n",
       "\n",
       "    .dataframe tbody tr th {\n",
       "        vertical-align: top;\n",
       "    }\n",
       "\n",
       "    .dataframe thead th {\n",
       "        text-align: right;\n",
       "    }\n",
       "</style>\n",
       "<table border=\"1\" class=\"dataframe\">\n",
       "  <thead>\n",
       "    <tr style=\"text-align: right;\">\n",
       "      <th></th>\n",
       "      <th>cgpa</th>\n",
       "      <th>resume_score</th>\n",
       "      <th>placed</th>\n",
       "    </tr>\n",
       "  </thead>\n",
       "  <tbody>\n",
       "    <tr>\n",
       "      <th>0</th>\n",
       "      <td>8.14</td>\n",
       "      <td>6.52</td>\n",
       "      <td>1</td>\n",
       "    </tr>\n",
       "    <tr>\n",
       "      <th>1</th>\n",
       "      <td>6.17</td>\n",
       "      <td>5.17</td>\n",
       "      <td>0</td>\n",
       "    </tr>\n",
       "  </tbody>\n",
       "</table>\n",
       "</div>"
      ],
      "text/plain": [
       "   cgpa  resume_score  placed\n",
       "0  8.14          6.52       1\n",
       "1  6.17          5.17       0"
      ]
     },
     "execution_count": 26,
     "metadata": {},
     "output_type": "execute_result"
    }
   ],
   "source": [
    "df.head(2)"
   ]
  },
  {
   "cell_type": "code",
   "execution_count": 27,
   "id": "96b56db8-16c9-4fd2-bb2d-7a6fc60b64ca",
   "metadata": {},
   "outputs": [
    {
     "data": {
      "text/plain": [
       "pandas.core.frame.DataFrame"
      ]
     },
     "execution_count": 27,
     "metadata": {},
     "output_type": "execute_result"
    }
   ],
   "source": [
    "x=df.drop(columns=['placed'] , axis = 1) ### independent data\n",
    "type(x)"
   ]
  },
  {
   "cell_type": "code",
   "execution_count": 28,
   "id": "7e1a94da-1759-4a4c-9ac9-8a6787f9a883",
   "metadata": {},
   "outputs": [
    {
     "data": {
      "text/html": [
       "<div>\n",
       "<style scoped>\n",
       "    .dataframe tbody tr th:only-of-type {\n",
       "        vertical-align: middle;\n",
       "    }\n",
       "\n",
       "    .dataframe tbody tr th {\n",
       "        vertical-align: top;\n",
       "    }\n",
       "\n",
       "    .dataframe thead th {\n",
       "        text-align: right;\n",
       "    }\n",
       "</style>\n",
       "<table border=\"1\" class=\"dataframe\">\n",
       "  <thead>\n",
       "    <tr style=\"text-align: right;\">\n",
       "      <th></th>\n",
       "      <th>cgpa</th>\n",
       "      <th>resume_score</th>\n",
       "    </tr>\n",
       "  </thead>\n",
       "  <tbody>\n",
       "    <tr>\n",
       "      <th>0</th>\n",
       "      <td>8.14</td>\n",
       "      <td>6.52</td>\n",
       "    </tr>\n",
       "    <tr>\n",
       "      <th>1</th>\n",
       "      <td>6.17</td>\n",
       "      <td>5.17</td>\n",
       "    </tr>\n",
       "  </tbody>\n",
       "</table>\n",
       "</div>"
      ],
      "text/plain": [
       "   cgpa  resume_score\n",
       "0  8.14          6.52\n",
       "1  6.17          5.17"
      ]
     },
     "execution_count": 28,
     "metadata": {},
     "output_type": "execute_result"
    }
   ],
   "source": [
    "x.head(2)"
   ]
  },
  {
   "cell_type": "code",
   "execution_count": 29,
   "id": "0dbfed34-d459-4cc4-9040-cedee36af148",
   "metadata": {},
   "outputs": [],
   "source": [
    "y=df['placed'] ### Dependent or target data"
   ]
  },
  {
   "cell_type": "code",
   "execution_count": 30,
   "id": "ed62240e-f7c7-441f-ac9b-5daf696ee662",
   "metadata": {},
   "outputs": [
    {
     "name": "stdout",
     "output_type": "stream",
     "text": [
      "Total data shape= H  (100, 3)\n",
      "Independent data shape (100, 2)\n",
      "Dependent data shape (100,)\n"
     ]
    }
   ],
   "source": [
    "print(\"Total data shape= H \", df.shape)\n",
    "print(\"Independent data shape\", x.shape)\n",
    "print(\"Dependent data shape\", y.shape)"
   ]
  },
  {
   "cell_type": "code",
   "execution_count": 31,
   "id": "cdc70e40-e498-456c-9800-dad9011d4b42",
   "metadata": {},
   "outputs": [],
   "source": [
    "from sklearn.model_selection import train_test_split "
   ]
  },
  {
   "cell_type": "code",
   "execution_count": 32,
   "id": "2a7efa2f-ed7e-497b-85ec-942070f50256",
   "metadata": {},
   "outputs": [],
   "source": [
    "x_train , x_test , y_train , y_test = train_test_split(x,y,test_size = 0.2 , random_state = 42)"
   ]
  },
  {
   "cell_type": "code",
   "execution_count": 33,
   "id": "ea91bafe-9231-42c8-b0b0-c80a86f97a11",
   "metadata": {},
   "outputs": [
    {
     "name": "stdout",
     "output_type": "stream",
     "text": [
      "Total data shape= (100, 3)\n",
      "Independent data shape=  (100, 2)\n",
      "Dependent data shape =  (100,)\n",
      "X_train data shape= (80, 2)\n",
      "X_test data shape (20, 2)\n"
     ]
    }
   ],
   "source": [
    "print(\"Total data shape=\" ,df.shape)\n",
    "print(\"Independent data shape= \", x.shape)\n",
    "print(\"Dependent data shape = \", y.shape) \n",
    "print(\"X_train data shape=\", x_train.shape)\n",
    "print(\"X_test data shape\", x_test.shape)"
   ]
  },
  {
   "cell_type": "code",
   "execution_count": null,
   "id": "b19ec88b-97ed-49ff-b5cd-49a3919c9080",
   "metadata": {},
   "outputs": [],
   "source": []
  }
 ],
 "metadata": {
  "kernelspec": {
   "display_name": "Python 3 (ipykernel)",
   "language": "python",
   "name": "python3"
  },
  "language_info": {
   "codemirror_mode": {
    "name": "ipython",
    "version": 3
   },
   "file_extension": ".py",
   "mimetype": "text/x-python",
   "name": "python",
   "nbconvert_exporter": "python",
   "pygments_lexer": "ipython3",
   "version": "3.12.3"
  }
 },
 "nbformat": 4,
 "nbformat_minor": 5
}
